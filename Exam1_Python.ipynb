{
 "cells": [
  {
   "cell_type": "code",
   "execution_count": 1,
   "id": "f71e7d82",
   "metadata": {},
   "outputs": [],
   "source": [
    "import numpy as np\n",
    "import pandas as pd\n",
    "import matplotlib.pyplot as plt\n",
    "import seaborn as sns\n",
    "import sklearn.metrics as metrics\n",
    "import random\n",
    "from sklearn.preprocessing import MinMaxScaler\n",
    "from sklearn.metrics import silhouette_score\n",
    "from sklearn.cluster import KMeans\n",
    "from sklearn.datasets import make_blobs\n",
    "from sklearn.tree import DecisionTreeClassifier\n",
    "from sklearn.model_selection import train_test_split \n",
    "from sklearn import metrics\n",
    "from sklearn import preprocessing\n",
    "from sklearn.feature_selection import RFE\n",
    "from sklearn.ensemble import RandomForestClassifier\n",
    "from sklearn.preprocessing import LabelEncoder\n",
    "from sklearn import linear_model\n",
    "plt.style.use(\"ggplot\")"
   ]
  },
  {
   "cell_type": "markdown",
   "id": "40b8222a",
   "metadata": {},
   "source": [
    "# Part A"
   ]
  },
  {
   "cell_type": "markdown",
   "id": "436c5018",
   "metadata": {},
   "source": [
    "### Exercise 1"
   ]
  },
  {
   "cell_type": "code",
   "execution_count": 2,
   "id": "e3ee67bb",
   "metadata": {},
   "outputs": [],
   "source": [
    "lst = [24,25,26,27,28,21,22,23,24,25]"
   ]
  },
  {
   "cell_type": "code",
   "execution_count": 3,
   "id": "921f29cf",
   "metadata": {},
   "outputs": [],
   "source": [
    "def selection_sort(lst):\n",
    "    for i in range(len(lst)):\n",
    "        min_index = i\n",
    "        for j in range(i+1, len(lst)):\n",
    "            if lst[min_index] > lst[j]:\n",
    "                min_index = j\n",
    "        lst[i], lst[min_index] = lst[min_index], lst[i]"
   ]
  },
  {
   "cell_type": "code",
   "execution_count": 4,
   "id": "5308837f",
   "metadata": {},
   "outputs": [
    {
     "data": {
      "text/plain": [
       "[21, 22, 23, 24, 24, 25, 25, 26, 27, 28]"
      ]
     },
     "execution_count": 4,
     "metadata": {},
     "output_type": "execute_result"
    }
   ],
   "source": [
    "selection_sort(lst)\n",
    "lst"
   ]
  },
  {
   "cell_type": "code",
   "execution_count": 5,
   "id": "3c6be8c1",
   "metadata": {},
   "outputs": [],
   "source": [
    "def search(lst, left, right, x):\n",
    "    if right >= left:\n",
    "        middle = (left + right) // 2\n",
    "        if lst[middle] == x:\n",
    "            return middle\n",
    "        elif lst[middle] < x:\n",
    "            return search(lst, middle+1, right, x)\n",
    "        else:\n",
    "            return search(lst, left, middle-1, x)\n",
    "    else:\n",
    "        return -1"
   ]
  },
  {
   "cell_type": "markdown",
   "id": "5474e1a0",
   "metadata": {},
   "source": [
    "### Exercise 2"
   ]
  },
  {
   "cell_type": "code",
   "execution_count": 6,
   "id": "4900721a",
   "metadata": {},
   "outputs": [
    {
     "data": {
      "text/plain": [
       "9"
      ]
     },
     "execution_count": 6,
     "metadata": {},
     "output_type": "execute_result"
    }
   ],
   "source": [
    "search(lst, 0, len(lst)-1, 28)"
   ]
  },
  {
   "cell_type": "markdown",
   "id": "77d8b960",
   "metadata": {},
   "source": [
    "### Exercise 3"
   ]
  },
  {
   "cell_type": "code",
   "execution_count": 7,
   "id": "0ff18c04",
   "metadata": {},
   "outputs": [],
   "source": [
    "def get_diff(lst):\n",
    "    arr = np.array([lst])\n",
    "    return np.sum((arr-arr.mean())**2)"
   ]
  },
  {
   "cell_type": "markdown",
   "id": "098e5734",
   "metadata": {},
   "source": [
    "### Exercise 4"
   ]
  },
  {
   "cell_type": "code",
   "execution_count": 8,
   "id": "562bf186",
   "metadata": {},
   "outputs": [
    {
     "data": {
      "text/plain": [
       "42.5"
      ]
     },
     "execution_count": 8,
     "metadata": {},
     "output_type": "execute_result"
    }
   ],
   "source": [
    "get_diff(lst)"
   ]
  },
  {
   "cell_type": "markdown",
   "id": "2aac30c5",
   "metadata": {},
   "source": [
    "# Part B"
   ]
  },
  {
   "cell_type": "markdown",
   "id": "a24c1b19",
   "metadata": {},
   "source": [
    "### Exercise 1"
   ]
  },
  {
   "cell_type": "code",
   "execution_count": 9,
   "id": "5344197e",
   "metadata": {},
   "outputs": [
    {
     "name": "stdout",
     "output_type": "stream",
     "text": [
      "Loaded\n"
     ]
    }
   ],
   "source": [
    "try:\n",
    "    df = pd.read_excel(\"salary.xlsx\")\n",
    "    print(\"Loaded\")\n",
    "except:\n",
    "    print(\"Error\")"
   ]
  },
  {
   "cell_type": "code",
   "execution_count": 10,
   "id": "1cf9cc7c",
   "metadata": {},
   "outputs": [
    {
     "data": {
      "text/html": [
       "<div>\n",
       "<style scoped>\n",
       "    .dataframe tbody tr th:only-of-type {\n",
       "        vertical-align: middle;\n",
       "    }\n",
       "\n",
       "    .dataframe tbody tr th {\n",
       "        vertical-align: top;\n",
       "    }\n",
       "\n",
       "    .dataframe thead th {\n",
       "        text-align: right;\n",
       "    }\n",
       "</style>\n",
       "<table border=\"1\" class=\"dataframe\">\n",
       "  <thead>\n",
       "    <tr style=\"text-align: right;\">\n",
       "      <th></th>\n",
       "      <th>age</th>\n",
       "      <th>marital-status</th>\n",
       "      <th>relationship</th>\n",
       "      <th>gender</th>\n",
       "      <th>hours-per-week</th>\n",
       "      <th>country</th>\n",
       "      <th>salary</th>\n",
       "    </tr>\n",
       "  </thead>\n",
       "  <tbody>\n",
       "    <tr>\n",
       "      <th>0</th>\n",
       "      <td>26</td>\n",
       "      <td>Married-civ-spouse</td>\n",
       "      <td>Wife</td>\n",
       "      <td>Female</td>\n",
       "      <td>40</td>\n",
       "      <td>United-States</td>\n",
       "      <td>&lt;=50K</td>\n",
       "    </tr>\n",
       "    <tr>\n",
       "      <th>1</th>\n",
       "      <td>40</td>\n",
       "      <td>Married-civ-spouse</td>\n",
       "      <td>Husband</td>\n",
       "      <td>Male</td>\n",
       "      <td>45</td>\n",
       "      <td>United-States</td>\n",
       "      <td>&gt;50K</td>\n",
       "    </tr>\n",
       "    <tr>\n",
       "      <th>2</th>\n",
       "      <td>34</td>\n",
       "      <td>Married-civ-spouse</td>\n",
       "      <td>Husband</td>\n",
       "      <td>Male</td>\n",
       "      <td>40</td>\n",
       "      <td>United-States</td>\n",
       "      <td>&lt;=50K</td>\n",
       "    </tr>\n",
       "    <tr>\n",
       "      <th>3</th>\n",
       "      <td>17</td>\n",
       "      <td>Never-married</td>\n",
       "      <td>Own-child</td>\n",
       "      <td>Male</td>\n",
       "      <td>40</td>\n",
       "      <td>United-States</td>\n",
       "      <td>&lt;=50K</td>\n",
       "    </tr>\n",
       "    <tr>\n",
       "      <th>4</th>\n",
       "      <td>75</td>\n",
       "      <td>Married-civ-spouse</td>\n",
       "      <td>Husband</td>\n",
       "      <td>Male</td>\n",
       "      <td>5</td>\n",
       "      <td>United-States</td>\n",
       "      <td>&lt;=50K</td>\n",
       "    </tr>\n",
       "    <tr>\n",
       "      <th>...</th>\n",
       "      <td>...</td>\n",
       "      <td>...</td>\n",
       "      <td>...</td>\n",
       "      <td>...</td>\n",
       "      <td>...</td>\n",
       "      <td>...</td>\n",
       "      <td>...</td>\n",
       "    </tr>\n",
       "    <tr>\n",
       "      <th>14995</th>\n",
       "      <td>30</td>\n",
       "      <td>Married-civ-spouse</td>\n",
       "      <td>Husband</td>\n",
       "      <td>Male</td>\n",
       "      <td>85</td>\n",
       "      <td>United-States</td>\n",
       "      <td>&lt;=50K</td>\n",
       "    </tr>\n",
       "    <tr>\n",
       "      <th>14996</th>\n",
       "      <td>50</td>\n",
       "      <td>Married-civ-spouse</td>\n",
       "      <td>Husband</td>\n",
       "      <td>Male</td>\n",
       "      <td>40</td>\n",
       "      <td>United-States</td>\n",
       "      <td>&gt;50K</td>\n",
       "    </tr>\n",
       "    <tr>\n",
       "      <th>14997</th>\n",
       "      <td>59</td>\n",
       "      <td>Divorced</td>\n",
       "      <td>Unmarried</td>\n",
       "      <td>Male</td>\n",
       "      <td>45</td>\n",
       "      <td>United-States</td>\n",
       "      <td>&gt;50K</td>\n",
       "    </tr>\n",
       "    <tr>\n",
       "      <th>14998</th>\n",
       "      <td>38</td>\n",
       "      <td>Never-married</td>\n",
       "      <td>Not-in-family</td>\n",
       "      <td>Female</td>\n",
       "      <td>40</td>\n",
       "      <td>United-States</td>\n",
       "      <td>&lt;=50K</td>\n",
       "    </tr>\n",
       "    <tr>\n",
       "      <th>14999</th>\n",
       "      <td>46</td>\n",
       "      <td>Never-married</td>\n",
       "      <td>Not-in-family</td>\n",
       "      <td>Female</td>\n",
       "      <td>38</td>\n",
       "      <td>United-States</td>\n",
       "      <td>&lt;=50K</td>\n",
       "    </tr>\n",
       "  </tbody>\n",
       "</table>\n",
       "<p>15000 rows × 7 columns</p>\n",
       "</div>"
      ],
      "text/plain": [
       "       age       marital-status    relationship  gender  hours-per-week  \\\n",
       "0       26   Married-civ-spouse            Wife  Female              40   \n",
       "1       40   Married-civ-spouse         Husband    Male              45   \n",
       "2       34   Married-civ-spouse         Husband    Male              40   \n",
       "3       17        Never-married       Own-child    Male              40   \n",
       "4       75   Married-civ-spouse         Husband    Male               5   \n",
       "...    ...                  ...             ...     ...             ...   \n",
       "14995   30   Married-civ-spouse         Husband    Male              85   \n",
       "14996   50   Married-civ-spouse         Husband    Male              40   \n",
       "14997   59             Divorced       Unmarried    Male              45   \n",
       "14998   38        Never-married   Not-in-family  Female              40   \n",
       "14999   46        Never-married   Not-in-family  Female              38   \n",
       "\n",
       "              country salary  \n",
       "0       United-States  <=50K  \n",
       "1       United-States   >50K  \n",
       "2       United-States  <=50K  \n",
       "3       United-States  <=50K  \n",
       "4       United-States  <=50K  \n",
       "...               ...    ...  \n",
       "14995   United-States  <=50K  \n",
       "14996   United-States   >50K  \n",
       "14997   United-States   >50K  \n",
       "14998   United-States  <=50K  \n",
       "14999   United-States  <=50K  \n",
       "\n",
       "[15000 rows x 7 columns]"
      ]
     },
     "execution_count": 10,
     "metadata": {},
     "output_type": "execute_result"
    }
   ],
   "source": [
    "df"
   ]
  },
  {
   "cell_type": "markdown",
   "id": "0c795716",
   "metadata": {},
   "source": [
    "### Exercise 2"
   ]
  },
  {
   "cell_type": "code",
   "execution_count": 11,
   "id": "7b439a36",
   "metadata": {},
   "outputs": [
    {
     "name": "stderr",
     "output_type": "stream",
     "text": [
      "C:\\Users\\Nadav Fireman\\AppData\\Local\\Temp\\ipykernel_6076\\1920364074.py:1: FutureWarning: Dropping of nuisance columns in DataFrame reductions (with 'numeric_only=None') is deprecated; in a future version this will raise TypeError.  Select only valid columns before calling the reduction.\n",
      "  df[df[\"gender\"]==\"Female\"].mean().head(1)\n"
     ]
    },
    {
     "data": {
      "text/plain": [
       "age    37.090727\n",
       "dtype: float64"
      ]
     },
     "execution_count": 11,
     "metadata": {},
     "output_type": "execute_result"
    }
   ],
   "source": [
    "df[df[\"gender\"]==\"Female\"].mean().head(1)"
   ]
  },
  {
   "cell_type": "markdown",
   "id": "6e6876b9",
   "metadata": {},
   "source": [
    "### Exercise 3"
   ]
  },
  {
   "cell_type": "code",
   "execution_count": 12,
   "id": "67a3c873",
   "metadata": {},
   "outputs": [],
   "source": [
    "df[\"gender\"].replace(to_replace=\" Male\" , value=\"Male\" , inplace=True)"
   ]
  },
  {
   "cell_type": "code",
   "execution_count": 13,
   "id": "a2e2e2aa",
   "metadata": {},
   "outputs": [],
   "source": [
    "temp = df[(df[\"gender\"]==\"Male\") & (df[\"age\"]>30)]"
   ]
  },
  {
   "cell_type": "code",
   "execution_count": 14,
   "id": "0be59f70",
   "metadata": {},
   "outputs": [
    {
     "data": {
      "text/plain": [
       "country\n",
       " United-States    6373\n",
       "Name: gender, dtype: int64"
      ]
     },
     "execution_count": 14,
     "metadata": {},
     "output_type": "execute_result"
    }
   ],
   "source": [
    "temp.groupby(\"country\")[\"gender\"].count().sort_values().tail(1)"
   ]
  },
  {
   "cell_type": "markdown",
   "id": "5876eec7",
   "metadata": {},
   "source": [
    "### Exercise 4"
   ]
  },
  {
   "cell_type": "code",
   "execution_count": 15,
   "id": "d4ba3ac9",
   "metadata": {},
   "outputs": [
    {
     "data": {
      "text/plain": [
       "relationship     gender\n",
       " Husband         Male      6001\n",
       " Not-in-family   Male      2070\n",
       "                 Female    1839\n",
       " Other-relative  Male       243\n",
       "                 Female     188\n",
       " Own-child       Male      1315\n",
       "                 Female    1016\n",
       " Unmarried       Female    1221\n",
       "                 Male       367\n",
       " Wife            Female     740\n",
       "Name: gender, dtype: int64"
      ]
     },
     "execution_count": 15,
     "metadata": {},
     "output_type": "execute_result"
    }
   ],
   "source": [
    "df.groupby(\"relationship\")[\"gender\"].value_counts()"
   ]
  },
  {
   "cell_type": "markdown",
   "id": "6a8a510d",
   "metadata": {},
   "source": [
    "### Exercise 5"
   ]
  },
  {
   "cell_type": "code",
   "execution_count": 16,
   "id": "94a7858b",
   "metadata": {},
   "outputs": [
    {
     "data": {
      "text/plain": [
       " Never-married            4708\n",
       " Married-civ-spouse       3832\n",
       " Divorced                 1815\n",
       " Separated                 460\n",
       " Widowed                   442\n",
       " Married-spouse-absent     188\n",
       " Married-AF-spouse           7\n",
       "Name: marital-status, dtype: int64"
      ]
     },
     "execution_count": 16,
     "metadata": {},
     "output_type": "execute_result"
    }
   ],
   "source": [
    "df[df[\"salary\"]==\"<=50K\"][\"marital-status\"].value_counts()"
   ]
  },
  {
   "cell_type": "markdown",
   "id": "b0c06a28",
   "metadata": {},
   "source": [
    "### Exercise 6"
   ]
  },
  {
   "cell_type": "code",
   "execution_count": 17,
   "id": "27c2b0e8",
   "metadata": {},
   "outputs": [],
   "source": [
    "df_female = df[df[\"gender\"]==\"Female\"]"
   ]
  },
  {
   "cell_type": "code",
   "execution_count": 18,
   "id": "9b8f2c47",
   "metadata": {},
   "outputs": [
    {
     "name": "stderr",
     "output_type": "stream",
     "text": [
      "C:\\Users\\Nadav Fireman\\AppData\\Local\\Temp\\ipykernel_6076\\1367648172.py:1: SettingWithCopyWarning: \n",
      "A value is trying to be set on a copy of a slice from a DataFrame\n",
      "\n",
      "See the caveats in the documentation: https://pandas.pydata.org/pandas-docs/stable/user_guide/indexing.html#returning-a-view-versus-a-copy\n",
      "  df_female.rename(columns= {\"hours-per-week\" : \"hours-per-week-female\"}, inplace=True)\n"
     ]
    }
   ],
   "source": [
    "df_female.rename(columns= {\"hours-per-week\" : \"hours-per-week-female\"}, inplace=True)"
   ]
  },
  {
   "cell_type": "code",
   "execution_count": 19,
   "id": "e78f88a2",
   "metadata": {},
   "outputs": [],
   "source": [
    "data_female = df_female.groupby(\"country\")[[\"hours-per-week-female\"]].mean()"
   ]
  },
  {
   "cell_type": "code",
   "execution_count": 20,
   "id": "25c6984a",
   "metadata": {},
   "outputs": [],
   "source": [
    "df_male = df[df[\"gender\"]==\"Male\"]"
   ]
  },
  {
   "cell_type": "code",
   "execution_count": 21,
   "id": "0b5a748e",
   "metadata": {},
   "outputs": [
    {
     "name": "stderr",
     "output_type": "stream",
     "text": [
      "C:\\Users\\Nadav Fireman\\AppData\\Local\\Temp\\ipykernel_6076\\1285618079.py:1: SettingWithCopyWarning: \n",
      "A value is trying to be set on a copy of a slice from a DataFrame\n",
      "\n",
      "See the caveats in the documentation: https://pandas.pydata.org/pandas-docs/stable/user_guide/indexing.html#returning-a-view-versus-a-copy\n",
      "  df_male.rename(columns= {\"hours-per-week\" : \"hours-per-week-male\"}, inplace=True)\n"
     ]
    }
   ],
   "source": [
    "df_male.rename(columns= {\"hours-per-week\" : \"hours-per-week-male\"}, inplace=True)"
   ]
  },
  {
   "cell_type": "code",
   "execution_count": 22,
   "id": "d64535c5",
   "metadata": {},
   "outputs": [],
   "source": [
    "data_male = df_male.groupby(\"country\")[[\"hours-per-week-male\"]].mean()"
   ]
  },
  {
   "cell_type": "code",
   "execution_count": 23,
   "id": "13f84df5",
   "metadata": {},
   "outputs": [],
   "source": [
    "data_female[\"hours-per-week-male\"] = data_male[\"hours-per-week-male\"]"
   ]
  },
  {
   "cell_type": "code",
   "execution_count": 24,
   "id": "3f6c191b",
   "metadata": {},
   "outputs": [
    {
     "data": {
      "text/html": [
       "<div>\n",
       "<style scoped>\n",
       "    .dataframe tbody tr th:only-of-type {\n",
       "        vertical-align: middle;\n",
       "    }\n",
       "\n",
       "    .dataframe tbody tr th {\n",
       "        vertical-align: top;\n",
       "    }\n",
       "\n",
       "    .dataframe thead th {\n",
       "        text-align: right;\n",
       "    }\n",
       "</style>\n",
       "<table border=\"1\" class=\"dataframe\">\n",
       "  <thead>\n",
       "    <tr style=\"text-align: right;\">\n",
       "      <th></th>\n",
       "      <th>hours-per-week-female</th>\n",
       "      <th>hours-per-week-male</th>\n",
       "    </tr>\n",
       "    <tr>\n",
       "      <th>country</th>\n",
       "      <th></th>\n",
       "      <th></th>\n",
       "    </tr>\n",
       "  </thead>\n",
       "  <tbody>\n",
       "    <tr>\n",
       "      <th>Cambodia</th>\n",
       "      <td>40.000000</td>\n",
       "      <td>40.777778</td>\n",
       "    </tr>\n",
       "    <tr>\n",
       "      <th>Canada</th>\n",
       "      <td>34.533333</td>\n",
       "      <td>40.024390</td>\n",
       "    </tr>\n",
       "    <tr>\n",
       "      <th>China</th>\n",
       "      <td>38.214286</td>\n",
       "      <td>38.906250</td>\n",
       "    </tr>\n",
       "    <tr>\n",
       "      <th>Columbia</th>\n",
       "      <td>37.875000</td>\n",
       "      <td>39.294118</td>\n",
       "    </tr>\n",
       "    <tr>\n",
       "      <th>Cuba</th>\n",
       "      <td>34.500000</td>\n",
       "      <td>42.809524</td>\n",
       "    </tr>\n",
       "    <tr>\n",
       "      <th>Dominican-Republic</th>\n",
       "      <td>40.400000</td>\n",
       "      <td>47.652174</td>\n",
       "    </tr>\n",
       "    <tr>\n",
       "      <th>Ecuador</th>\n",
       "      <td>29.500000</td>\n",
       "      <td>40.875000</td>\n",
       "    </tr>\n",
       "    <tr>\n",
       "      <th>El-Salvador</th>\n",
       "      <td>36.916667</td>\n",
       "      <td>37.031250</td>\n",
       "    </tr>\n",
       "    <tr>\n",
       "      <th>England</th>\n",
       "      <td>44.235294</td>\n",
       "      <td>41.066667</td>\n",
       "    </tr>\n",
       "    <tr>\n",
       "      <th>France</th>\n",
       "      <td>37.400000</td>\n",
       "      <td>51.538462</td>\n",
       "    </tr>\n",
       "    <tr>\n",
       "      <th>Germany</th>\n",
       "      <td>37.593750</td>\n",
       "      <td>44.666667</td>\n",
       "    </tr>\n",
       "    <tr>\n",
       "      <th>Greece</th>\n",
       "      <td>34.666667</td>\n",
       "      <td>45.333333</td>\n",
       "    </tr>\n",
       "    <tr>\n",
       "      <th>Guatemala</th>\n",
       "      <td>39.769231</td>\n",
       "      <td>39.120000</td>\n",
       "    </tr>\n",
       "    <tr>\n",
       "      <th>Haiti</th>\n",
       "      <td>38.875000</td>\n",
       "      <td>36.375000</td>\n",
       "    </tr>\n",
       "    <tr>\n",
       "      <th>Honduras</th>\n",
       "      <td>40.000000</td>\n",
       "      <td>38.000000</td>\n",
       "    </tr>\n",
       "    <tr>\n",
       "      <th>Hong</th>\n",
       "      <td>37.500000</td>\n",
       "      <td>40.000000</td>\n",
       "    </tr>\n",
       "    <tr>\n",
       "      <th>Hungary</th>\n",
       "      <td>31.000000</td>\n",
       "      <td>30.000000</td>\n",
       "    </tr>\n",
       "    <tr>\n",
       "      <th>India</th>\n",
       "      <td>34.500000</td>\n",
       "      <td>44.954545</td>\n",
       "    </tr>\n",
       "    <tr>\n",
       "      <th>Iran</th>\n",
       "      <td>40.500000</td>\n",
       "      <td>47.642857</td>\n",
       "    </tr>\n",
       "    <tr>\n",
       "      <th>Ireland</th>\n",
       "      <td>40.000000</td>\n",
       "      <td>44.857143</td>\n",
       "    </tr>\n",
       "    <tr>\n",
       "      <th>Italy</th>\n",
       "      <td>42.230769</td>\n",
       "      <td>43.000000</td>\n",
       "    </tr>\n",
       "    <tr>\n",
       "      <th>Jamaica</th>\n",
       "      <td>35.695652</td>\n",
       "      <td>41.428571</td>\n",
       "    </tr>\n",
       "    <tr>\n",
       "      <th>Japan</th>\n",
       "      <td>37.285714</td>\n",
       "      <td>48.200000</td>\n",
       "    </tr>\n",
       "    <tr>\n",
       "      <th>Laos</th>\n",
       "      <td>40.000000</td>\n",
       "      <td>41.666667</td>\n",
       "    </tr>\n",
       "    <tr>\n",
       "      <th>Mexico</th>\n",
       "      <td>35.409091</td>\n",
       "      <td>41.432099</td>\n",
       "    </tr>\n",
       "    <tr>\n",
       "      <th>Nicaragua</th>\n",
       "      <td>35.833333</td>\n",
       "      <td>36.428571</td>\n",
       "    </tr>\n",
       "    <tr>\n",
       "      <th>Outlying-US(Guam-USVI-etc)</th>\n",
       "      <td>38.000000</td>\n",
       "      <td>40.000000</td>\n",
       "    </tr>\n",
       "    <tr>\n",
       "      <th>Peru</th>\n",
       "      <td>42.000000</td>\n",
       "      <td>34.857143</td>\n",
       "    </tr>\n",
       "    <tr>\n",
       "      <th>Philippines</th>\n",
       "      <td>37.771429</td>\n",
       "      <td>42.019608</td>\n",
       "    </tr>\n",
       "    <tr>\n",
       "      <th>Poland</th>\n",
       "      <td>33.272727</td>\n",
       "      <td>38.210526</td>\n",
       "    </tr>\n",
       "    <tr>\n",
       "      <th>Portugal</th>\n",
       "      <td>40.222222</td>\n",
       "      <td>44.928571</td>\n",
       "    </tr>\n",
       "    <tr>\n",
       "      <th>Puerto-Rico</th>\n",
       "      <td>34.730769</td>\n",
       "      <td>40.600000</td>\n",
       "    </tr>\n",
       "    <tr>\n",
       "      <th>Scotland</th>\n",
       "      <td>37.500000</td>\n",
       "      <td>50.000000</td>\n",
       "    </tr>\n",
       "    <tr>\n",
       "      <th>South</th>\n",
       "      <td>40.187500</td>\n",
       "      <td>39.200000</td>\n",
       "    </tr>\n",
       "    <tr>\n",
       "      <th>Taiwan</th>\n",
       "      <td>25.800000</td>\n",
       "      <td>37.562500</td>\n",
       "    </tr>\n",
       "    <tr>\n",
       "      <th>Thailand</th>\n",
       "      <td>44.166667</td>\n",
       "      <td>43.000000</td>\n",
       "    </tr>\n",
       "    <tr>\n",
       "      <th>Trinadad&amp;Tobago</th>\n",
       "      <td>32.200000</td>\n",
       "      <td>46.000000</td>\n",
       "    </tr>\n",
       "    <tr>\n",
       "      <th>United-States</th>\n",
       "      <td>36.500223</td>\n",
       "      <td>42.296499</td>\n",
       "    </tr>\n",
       "    <tr>\n",
       "      <th>Vietnam</th>\n",
       "      <td>39.375000</td>\n",
       "      <td>41.875000</td>\n",
       "    </tr>\n",
       "    <tr>\n",
       "      <th>Yugoslavia</th>\n",
       "      <td>33.333333</td>\n",
       "      <td>46.000000</td>\n",
       "    </tr>\n",
       "  </tbody>\n",
       "</table>\n",
       "</div>"
      ],
      "text/plain": [
       "                             hours-per-week-female  hours-per-week-male\n",
       "country                                                                \n",
       " Cambodia                                40.000000            40.777778\n",
       " Canada                                  34.533333            40.024390\n",
       " China                                   38.214286            38.906250\n",
       " Columbia                                37.875000            39.294118\n",
       " Cuba                                    34.500000            42.809524\n",
       " Dominican-Republic                      40.400000            47.652174\n",
       " Ecuador                                 29.500000            40.875000\n",
       " El-Salvador                             36.916667            37.031250\n",
       " England                                 44.235294            41.066667\n",
       " France                                  37.400000            51.538462\n",
       " Germany                                 37.593750            44.666667\n",
       " Greece                                  34.666667            45.333333\n",
       " Guatemala                               39.769231            39.120000\n",
       " Haiti                                   38.875000            36.375000\n",
       " Honduras                                40.000000            38.000000\n",
       " Hong                                    37.500000            40.000000\n",
       " Hungary                                 31.000000            30.000000\n",
       " India                                   34.500000            44.954545\n",
       " Iran                                    40.500000            47.642857\n",
       " Ireland                                 40.000000            44.857143\n",
       " Italy                                   42.230769            43.000000\n",
       " Jamaica                                 35.695652            41.428571\n",
       " Japan                                   37.285714            48.200000\n",
       " Laos                                    40.000000            41.666667\n",
       " Mexico                                  35.409091            41.432099\n",
       " Nicaragua                               35.833333            36.428571\n",
       " Outlying-US(Guam-USVI-etc)              38.000000            40.000000\n",
       " Peru                                    42.000000            34.857143\n",
       " Philippines                             37.771429            42.019608\n",
       " Poland                                  33.272727            38.210526\n",
       " Portugal                                40.222222            44.928571\n",
       " Puerto-Rico                             34.730769            40.600000\n",
       " Scotland                                37.500000            50.000000\n",
       " South                                   40.187500            39.200000\n",
       " Taiwan                                  25.800000            37.562500\n",
       " Thailand                                44.166667            43.000000\n",
       " Trinadad&Tobago                         32.200000            46.000000\n",
       " United-States                           36.500223            42.296499\n",
       " Vietnam                                 39.375000            41.875000\n",
       " Yugoslavia                              33.333333            46.000000"
      ]
     },
     "execution_count": 24,
     "metadata": {},
     "output_type": "execute_result"
    }
   ],
   "source": [
    "data_female"
   ]
  },
  {
   "cell_type": "markdown",
   "id": "e47d23fa",
   "metadata": {},
   "source": [
    "### Exercise 7"
   ]
  },
  {
   "cell_type": "code",
   "execution_count": 25,
   "id": "eeec0f5d",
   "metadata": {},
   "outputs": [],
   "source": [
    "df.replace(to_replace=\" >50K\" , value=\">50K\" , inplace=True)"
   ]
  },
  {
   "cell_type": "code",
   "execution_count": 26,
   "id": "23c96030",
   "metadata": {},
   "outputs": [
    {
     "data": {
      "text/plain": [
       " Husband    2647\n",
       "Name: relationship, dtype: int64"
      ]
     },
     "execution_count": 26,
     "metadata": {},
     "output_type": "execute_result"
    }
   ],
   "source": [
    "df[df[\"salary\"]==\">50K\"][\"relationship\"].value_counts().head(1)"
   ]
  },
  {
   "cell_type": "markdown",
   "id": "c52d2d3a",
   "metadata": {},
   "source": [
    "### Exercise 8"
   ]
  },
  {
   "cell_type": "markdown",
   "id": "f240ff0c",
   "metadata": {},
   "source": [
    "##### Section a"
   ]
  },
  {
   "cell_type": "code",
   "execution_count": 27,
   "id": "d95f455b",
   "metadata": {},
   "outputs": [
    {
     "data": {
      "image/png": "[encoded data removed]",
      "text/plain": [
       "<Figure size 720x720 with 1 Axes>"
      ]
     },
     "metadata": {},
     "output_type": "display_data"
    }
   ],
   "source": [
    "df.groupby(\"relationship\")[\"gender\"].value_counts().plot.pie(autopct=\"%1.2f%%\",figsize=(10,10))\n",
    "plt.legend()\n",
    "plt.show()"
   ]
  },
  {
   "cell_type": "markdown",
   "id": "024deef6",
   "metadata": {},
   "source": [
    "##### Section b"
   ]
  },
  {
   "cell_type": "code",
   "execution_count": 28,
   "id": "e9102fb1",
   "metadata": {},
   "outputs": [
    {
     "data": {
      "text/plain": [
       "<AxesSubplot:xlabel='country'>"
      ]
     },
     "execution_count": 28,
     "metadata": {},
     "output_type": "execute_result"
    },
    {
     "data": {
      "image/png": "[encoded data removed]",
      "text/plain": [
       "<Figure size 1440x360 with 1 Axes>"
      ]
     },
     "metadata": {},
     "output_type": "display_data"
    }
   ],
   "source": [
    "data_female.plot(kind=\"bar\",figsize=(20,5))"
   ]
  },
  {
   "cell_type": "markdown",
   "id": "15bc5f94",
   "metadata": {},
   "source": [
    "# Part C"
   ]
  },
  {
   "cell_type": "markdown",
   "id": "71caf7b0",
   "metadata": {},
   "source": [
    "### Exercise 1"
   ]
  },
  {
   "cell_type": "code",
   "execution_count": 29,
   "id": "79ee87b8",
   "metadata": {},
   "outputs": [
    {
     "data": {
      "text/plain": [
       "age                 0\n",
       "marital-status      0\n",
       "relationship        0\n",
       "gender              0\n",
       "hours-per-week      0\n",
       "country           254\n",
       "salary              0\n",
       "dtype: int64"
      ]
     },
     "execution_count": 29,
     "metadata": {},
     "output_type": "execute_result"
    }
   ],
   "source": [
    "df.isna().sum()"
   ]
  },
  {
   "cell_type": "code",
   "execution_count": 30,
   "id": "60abd018",
   "metadata": {},
   "outputs": [],
   "source": [
    "df.dropna(inplace=True)"
   ]
  },
  {
   "cell_type": "code",
   "execution_count": 31,
   "id": "2d7f0a59",
   "metadata": {},
   "outputs": [
    {
     "data": {
      "text/plain": [
       "age               0\n",
       "marital-status    0\n",
       "relationship      0\n",
       "gender            0\n",
       "hours-per-week    0\n",
       "country           0\n",
       "salary            0\n",
       "dtype: int64"
      ]
     },
     "execution_count": 31,
     "metadata": {},
     "output_type": "execute_result"
    }
   ],
   "source": [
    "df.isna().sum()"
   ]
  },
  {
   "cell_type": "code",
   "execution_count": 32,
   "id": "a7c32aee",
   "metadata": {},
   "outputs": [
    {
     "name": "stdout",
     "output_type": "stream",
     "text": [
      "<class 'pandas.core.frame.DataFrame'>\n",
      "Int64Index: 14746 entries, 0 to 14999\n",
      "Data columns (total 7 columns):\n",
      " #   Column          Non-Null Count  Dtype \n",
      "---  ------          --------------  ----- \n",
      " 0   age             14746 non-null  int64 \n",
      " 1   marital-status  14746 non-null  object\n",
      " 2   relationship    14746 non-null  object\n",
      " 3   gender          14746 non-null  object\n",
      " 4   hours-per-week  14746 non-null  int64 \n",
      " 5   country         14746 non-null  object\n",
      " 6   salary          14746 non-null  object\n",
      "dtypes: int64(2), object(5)\n",
      "memory usage: 921.6+ KB\n"
     ]
    }
   ],
   "source": [
    "df.info()"
   ]
  },
  {
   "cell_type": "markdown",
   "id": "da7a1ab3",
   "metadata": {},
   "source": [
    "### Exercise 2"
   ]
  },
  {
   "cell_type": "markdown",
   "id": "f230c9d2",
   "metadata": {},
   "source": [
    "##### Section a+b+c"
   ]
  },
  {
   "cell_type": "code",
   "execution_count": 33,
   "id": "b9802b94",
   "metadata": {},
   "outputs": [
    {
     "name": "stderr",
     "output_type": "stream",
     "text": [
      "C:\\Users\\Nadav Fireman\\AppData\\Local\\Temp\\ipykernel_6076\\3698961737.py:1: FutureWarning: Dropping of nuisance columns in DataFrame reductions (with 'numeric_only=None') is deprecated; in a future version this will raise TypeError.  Select only valid columns before calling the reduction.\n",
      "  df.mean()\n"
     ]
    },
    {
     "data": {
      "text/plain": [
       "age               38.604639\n",
       "hours-per-week    40.357521\n",
       "dtype: float64"
      ]
     },
     "execution_count": 33,
     "metadata": {},
     "output_type": "execute_result"
    }
   ],
   "source": [
    "df.mean()"
   ]
  },
  {
   "cell_type": "code",
   "execution_count": 34,
   "id": "02170f11",
   "metadata": {},
   "outputs": [
    {
     "name": "stderr",
     "output_type": "stream",
     "text": [
      "C:\\Users\\Nadav Fireman\\AppData\\Local\\Temp\\ipykernel_6076\\3390915376.py:1: FutureWarning: Dropping of nuisance columns in DataFrame reductions (with 'numeric_only=None') is deprecated; in a future version this will raise TypeError.  Select only valid columns before calling the reduction.\n",
      "  df.std()\n"
     ]
    },
    {
     "data": {
      "text/plain": [
       "age               13.724206\n",
       "hours-per-week    12.441579\n",
       "dtype: float64"
      ]
     },
     "execution_count": 34,
     "metadata": {},
     "output_type": "execute_result"
    }
   ],
   "source": [
    "df.std()"
   ]
  },
  {
   "cell_type": "code",
   "execution_count": 35,
   "id": "233b2d52",
   "metadata": {},
   "outputs": [],
   "source": [
    "numerical_cols=df.select_dtypes(exclude=['object']).columns\n",
    "for col in numerical_cols:\n",
    "    df[col] = (df[col] - df[col].mean()) / df[col].std()"
   ]
  },
  {
   "cell_type": "code",
   "execution_count": 36,
   "id": "ebf01b53",
   "metadata": {},
   "outputs": [
    {
     "data": {
      "text/html": [
       "<div>\n",
       "<style scoped>\n",
       "    .dataframe tbody tr th:only-of-type {\n",
       "        vertical-align: middle;\n",
       "    }\n",
       "\n",
       "    .dataframe tbody tr th {\n",
       "        vertical-align: top;\n",
       "    }\n",
       "\n",
       "    .dataframe thead th {\n",
       "        text-align: right;\n",
       "    }\n",
       "</style>\n",
       "<table border=\"1\" class=\"dataframe\">\n",
       "  <thead>\n",
       "    <tr style=\"text-align: right;\">\n",
       "      <th></th>\n",
       "      <th>age</th>\n",
       "      <th>marital-status</th>\n",
       "      <th>relationship</th>\n",
       "      <th>gender</th>\n",
       "      <th>hours-per-week</th>\n",
       "      <th>country</th>\n",
       "      <th>salary</th>\n",
       "    </tr>\n",
       "  </thead>\n",
       "  <tbody>\n",
       "    <tr>\n",
       "      <th>0</th>\n",
       "      <td>-0.918424</td>\n",
       "      <td>Married-civ-spouse</td>\n",
       "      <td>Wife</td>\n",
       "      <td>Female</td>\n",
       "      <td>-0.028736</td>\n",
       "      <td>United-States</td>\n",
       "      <td>&lt;=50K</td>\n",
       "    </tr>\n",
       "    <tr>\n",
       "      <th>1</th>\n",
       "      <td>0.101672</td>\n",
       "      <td>Married-civ-spouse</td>\n",
       "      <td>Husband</td>\n",
       "      <td>Male</td>\n",
       "      <td>0.373142</td>\n",
       "      <td>United-States</td>\n",
       "      <td>&gt;50K</td>\n",
       "    </tr>\n",
       "    <tr>\n",
       "      <th>2</th>\n",
       "      <td>-0.335512</td>\n",
       "      <td>Married-civ-spouse</td>\n",
       "      <td>Husband</td>\n",
       "      <td>Male</td>\n",
       "      <td>-0.028736</td>\n",
       "      <td>United-States</td>\n",
       "      <td>&lt;=50K</td>\n",
       "    </tr>\n",
       "    <tr>\n",
       "      <th>3</th>\n",
       "      <td>-1.574200</td>\n",
       "      <td>Never-married</td>\n",
       "      <td>Own-child</td>\n",
       "      <td>Male</td>\n",
       "      <td>-0.028736</td>\n",
       "      <td>United-States</td>\n",
       "      <td>&lt;=50K</td>\n",
       "    </tr>\n",
       "    <tr>\n",
       "      <th>4</th>\n",
       "      <td>2.651910</td>\n",
       "      <td>Married-civ-spouse</td>\n",
       "      <td>Husband</td>\n",
       "      <td>Male</td>\n",
       "      <td>-2.841884</td>\n",
       "      <td>United-States</td>\n",
       "      <td>&lt;=50K</td>\n",
       "    </tr>\n",
       "    <tr>\n",
       "      <th>...</th>\n",
       "      <td>...</td>\n",
       "      <td>...</td>\n",
       "      <td>...</td>\n",
       "      <td>...</td>\n",
       "      <td>...</td>\n",
       "      <td>...</td>\n",
       "      <td>...</td>\n",
       "    </tr>\n",
       "    <tr>\n",
       "      <th>14995</th>\n",
       "      <td>-0.626968</td>\n",
       "      <td>Married-civ-spouse</td>\n",
       "      <td>Husband</td>\n",
       "      <td>Male</td>\n",
       "      <td>3.588168</td>\n",
       "      <td>United-States</td>\n",
       "      <td>&lt;=50K</td>\n",
       "    </tr>\n",
       "    <tr>\n",
       "      <th>14996</th>\n",
       "      <td>0.830311</td>\n",
       "      <td>Married-civ-spouse</td>\n",
       "      <td>Husband</td>\n",
       "      <td>Male</td>\n",
       "      <td>-0.028736</td>\n",
       "      <td>United-States</td>\n",
       "      <td>&gt;50K</td>\n",
       "    </tr>\n",
       "    <tr>\n",
       "      <th>14997</th>\n",
       "      <td>1.486087</td>\n",
       "      <td>Divorced</td>\n",
       "      <td>Unmarried</td>\n",
       "      <td>Male</td>\n",
       "      <td>0.373142</td>\n",
       "      <td>United-States</td>\n",
       "      <td>&gt;50K</td>\n",
       "    </tr>\n",
       "    <tr>\n",
       "      <th>14998</th>\n",
       "      <td>-0.044056</td>\n",
       "      <td>Never-married</td>\n",
       "      <td>Not-in-family</td>\n",
       "      <td>Female</td>\n",
       "      <td>-0.028736</td>\n",
       "      <td>United-States</td>\n",
       "      <td>&lt;=50K</td>\n",
       "    </tr>\n",
       "    <tr>\n",
       "      <th>14999</th>\n",
       "      <td>0.538855</td>\n",
       "      <td>Never-married</td>\n",
       "      <td>Not-in-family</td>\n",
       "      <td>Female</td>\n",
       "      <td>-0.189487</td>\n",
       "      <td>United-States</td>\n",
       "      <td>&lt;=50K</td>\n",
       "    </tr>\n",
       "  </tbody>\n",
       "</table>\n",
       "<p>14746 rows × 7 columns</p>\n",
       "</div>"
      ],
      "text/plain": [
       "            age       marital-status    relationship  gender  hours-per-week  \\\n",
       "0     -0.918424   Married-civ-spouse            Wife  Female       -0.028736   \n",
       "1      0.101672   Married-civ-spouse         Husband    Male        0.373142   \n",
       "2     -0.335512   Married-civ-spouse         Husband    Male       -0.028736   \n",
       "3     -1.574200        Never-married       Own-child    Male       -0.028736   \n",
       "4      2.651910   Married-civ-spouse         Husband    Male       -2.841884   \n",
       "...         ...                  ...             ...     ...             ...   \n",
       "14995 -0.626968   Married-civ-spouse         Husband    Male        3.588168   \n",
       "14996  0.830311   Married-civ-spouse         Husband    Male       -0.028736   \n",
       "14997  1.486087             Divorced       Unmarried    Male        0.373142   \n",
       "14998 -0.044056        Never-married   Not-in-family  Female       -0.028736   \n",
       "14999  0.538855        Never-married   Not-in-family  Female       -0.189487   \n",
       "\n",
       "              country salary  \n",
       "0       United-States  <=50K  \n",
       "1       United-States   >50K  \n",
       "2       United-States  <=50K  \n",
       "3       United-States  <=50K  \n",
       "4       United-States  <=50K  \n",
       "...               ...    ...  \n",
       "14995   United-States  <=50K  \n",
       "14996   United-States   >50K  \n",
       "14997   United-States   >50K  \n",
       "14998   United-States  <=50K  \n",
       "14999   United-States  <=50K  \n",
       "\n",
       "[14746 rows x 7 columns]"
      ]
     },
     "execution_count": 36,
     "metadata": {},
     "output_type": "execute_result"
    }
   ],
   "source": [
    "df"
   ]
  },
  {
   "cell_type": "markdown",
   "id": "cbb112b6",
   "metadata": {},
   "source": [
    "### Exercise 3"
   ]
  },
  {
   "cell_type": "code",
   "execution_count": 37,
   "id": "93f29965",
   "metadata": {},
   "outputs": [],
   "source": [
    "df.drop(columns=[\"salary\"] , inplace=True)"
   ]
  },
  {
   "cell_type": "code",
   "execution_count": 38,
   "id": "7a72531b",
   "metadata": {},
   "outputs": [
    {
     "data": {
      "text/html": [
       "<div>\n",
       "<style scoped>\n",
       "    .dataframe tbody tr th:only-of-type {\n",
       "        vertical-align: middle;\n",
       "    }\n",
       "\n",
       "    .dataframe tbody tr th {\n",
       "        vertical-align: top;\n",
       "    }\n",
       "\n",
       "    .dataframe thead th {\n",
       "        text-align: right;\n",
       "    }\n",
       "</style>\n",
       "<table border=\"1\" class=\"dataframe\">\n",
       "  <thead>\n",
       "    <tr style=\"text-align: right;\">\n",
       "      <th></th>\n",
       "      <th>age</th>\n",
       "      <th>marital-status</th>\n",
       "      <th>relationship</th>\n",
       "      <th>gender</th>\n",
       "      <th>hours-per-week</th>\n",
       "      <th>country</th>\n",
       "    </tr>\n",
       "  </thead>\n",
       "  <tbody>\n",
       "    <tr>\n",
       "      <th>0</th>\n",
       "      <td>-0.918424</td>\n",
       "      <td>Married-civ-spouse</td>\n",
       "      <td>Wife</td>\n",
       "      <td>Female</td>\n",
       "      <td>-0.028736</td>\n",
       "      <td>United-States</td>\n",
       "    </tr>\n",
       "    <tr>\n",
       "      <th>1</th>\n",
       "      <td>0.101672</td>\n",
       "      <td>Married-civ-spouse</td>\n",
       "      <td>Husband</td>\n",
       "      <td>Male</td>\n",
       "      <td>0.373142</td>\n",
       "      <td>United-States</td>\n",
       "    </tr>\n",
       "    <tr>\n",
       "      <th>2</th>\n",
       "      <td>-0.335512</td>\n",
       "      <td>Married-civ-spouse</td>\n",
       "      <td>Husband</td>\n",
       "      <td>Male</td>\n",
       "      <td>-0.028736</td>\n",
       "      <td>United-States</td>\n",
       "    </tr>\n",
       "    <tr>\n",
       "      <th>3</th>\n",
       "      <td>-1.574200</td>\n",
       "      <td>Never-married</td>\n",
       "      <td>Own-child</td>\n",
       "      <td>Male</td>\n",
       "      <td>-0.028736</td>\n",
       "      <td>United-States</td>\n",
       "    </tr>\n",
       "    <tr>\n",
       "      <th>4</th>\n",
       "      <td>2.651910</td>\n",
       "      <td>Married-civ-spouse</td>\n",
       "      <td>Husband</td>\n",
       "      <td>Male</td>\n",
       "      <td>-2.841884</td>\n",
       "      <td>United-States</td>\n",
       "    </tr>\n",
       "    <tr>\n",
       "      <th>...</th>\n",
       "      <td>...</td>\n",
       "      <td>...</td>\n",
       "      <td>...</td>\n",
       "      <td>...</td>\n",
       "      <td>...</td>\n",
       "      <td>...</td>\n",
       "    </tr>\n",
       "    <tr>\n",
       "      <th>14995</th>\n",
       "      <td>-0.626968</td>\n",
       "      <td>Married-civ-spouse</td>\n",
       "      <td>Husband</td>\n",
       "      <td>Male</td>\n",
       "      <td>3.588168</td>\n",
       "      <td>United-States</td>\n",
       "    </tr>\n",
       "    <tr>\n",
       "      <th>14996</th>\n",
       "      <td>0.830311</td>\n",
       "      <td>Married-civ-spouse</td>\n",
       "      <td>Husband</td>\n",
       "      <td>Male</td>\n",
       "      <td>-0.028736</td>\n",
       "      <td>United-States</td>\n",
       "    </tr>\n",
       "    <tr>\n",
       "      <th>14997</th>\n",
       "      <td>1.486087</td>\n",
       "      <td>Divorced</td>\n",
       "      <td>Unmarried</td>\n",
       "      <td>Male</td>\n",
       "      <td>0.373142</td>\n",
       "      <td>United-States</td>\n",
       "    </tr>\n",
       "    <tr>\n",
       "      <th>14998</th>\n",
       "      <td>-0.044056</td>\n",
       "      <td>Never-married</td>\n",
       "      <td>Not-in-family</td>\n",
       "      <td>Female</td>\n",
       "      <td>-0.028736</td>\n",
       "      <td>United-States</td>\n",
       "    </tr>\n",
       "    <tr>\n",
       "      <th>14999</th>\n",
       "      <td>0.538855</td>\n",
       "      <td>Never-married</td>\n",
       "      <td>Not-in-family</td>\n",
       "      <td>Female</td>\n",
       "      <td>-0.189487</td>\n",
       "      <td>United-States</td>\n",
       "    </tr>\n",
       "  </tbody>\n",
       "</table>\n",
       "<p>14746 rows × 6 columns</p>\n",
       "</div>"
      ],
      "text/plain": [
       "            age       marital-status    relationship  gender  hours-per-week  \\\n",
       "0     -0.918424   Married-civ-spouse            Wife  Female       -0.028736   \n",
       "1      0.101672   Married-civ-spouse         Husband    Male        0.373142   \n",
       "2     -0.335512   Married-civ-spouse         Husband    Male       -0.028736   \n",
       "3     -1.574200        Never-married       Own-child    Male       -0.028736   \n",
       "4      2.651910   Married-civ-spouse         Husband    Male       -2.841884   \n",
       "...         ...                  ...             ...     ...             ...   \n",
       "14995 -0.626968   Married-civ-spouse         Husband    Male        3.588168   \n",
       "14996  0.830311   Married-civ-spouse         Husband    Male       -0.028736   \n",
       "14997  1.486087             Divorced       Unmarried    Male        0.373142   \n",
       "14998 -0.044056        Never-married   Not-in-family  Female       -0.028736   \n",
       "14999  0.538855        Never-married   Not-in-family  Female       -0.189487   \n",
       "\n",
       "              country  \n",
       "0       United-States  \n",
       "1       United-States  \n",
       "2       United-States  \n",
       "3       United-States  \n",
       "4       United-States  \n",
       "...               ...  \n",
       "14995   United-States  \n",
       "14996   United-States  \n",
       "14997   United-States  \n",
       "14998   United-States  \n",
       "14999   United-States  \n",
       "\n",
       "[14746 rows x 6 columns]"
      ]
     },
     "execution_count": 38,
     "metadata": {},
     "output_type": "execute_result"
    }
   ],
   "source": [
    "df"
   ]
  },
  {
   "cell_type": "markdown",
   "id": "85104b4d",
   "metadata": {},
   "source": [
    "### Exercise 4"
   ]
  },
  {
   "cell_type": "code",
   "execution_count": 39,
   "id": "d53fdb9c",
   "metadata": {},
   "outputs": [],
   "source": [
    "df.replace(to_replace=[\"Male\",\"Female\"],value=[0,1],inplace=True)"
   ]
  },
  {
   "cell_type": "code",
   "execution_count": 40,
   "id": "a0efffcc",
   "metadata": {},
   "outputs": [
    {
     "data": {
      "text/html": [
       "<div>\n",
       "<style scoped>\n",
       "    .dataframe tbody tr th:only-of-type {\n",
       "        vertical-align: middle;\n",
       "    }\n",
       "\n",
       "    .dataframe tbody tr th {\n",
       "        vertical-align: top;\n",
       "    }\n",
       "\n",
       "    .dataframe thead th {\n",
       "        text-align: right;\n",
       "    }\n",
       "</style>\n",
       "<table border=\"1\" class=\"dataframe\">\n",
       "  <thead>\n",
       "    <tr style=\"text-align: right;\">\n",
       "      <th></th>\n",
       "      <th>age</th>\n",
       "      <th>marital-status</th>\n",
       "      <th>relationship</th>\n",
       "      <th>gender</th>\n",
       "      <th>hours-per-week</th>\n",
       "      <th>country</th>\n",
       "    </tr>\n",
       "  </thead>\n",
       "  <tbody>\n",
       "    <tr>\n",
       "      <th>0</th>\n",
       "      <td>-0.918424</td>\n",
       "      <td>Married-civ-spouse</td>\n",
       "      <td>Wife</td>\n",
       "      <td>1</td>\n",
       "      <td>-0.028736</td>\n",
       "      <td>United-States</td>\n",
       "    </tr>\n",
       "    <tr>\n",
       "      <th>1</th>\n",
       "      <td>0.101672</td>\n",
       "      <td>Married-civ-spouse</td>\n",
       "      <td>Husband</td>\n",
       "      <td>0</td>\n",
       "      <td>0.373142</td>\n",
       "      <td>United-States</td>\n",
       "    </tr>\n",
       "    <tr>\n",
       "      <th>2</th>\n",
       "      <td>-0.335512</td>\n",
       "      <td>Married-civ-spouse</td>\n",
       "      <td>Husband</td>\n",
       "      <td>0</td>\n",
       "      <td>-0.028736</td>\n",
       "      <td>United-States</td>\n",
       "    </tr>\n",
       "    <tr>\n",
       "      <th>3</th>\n",
       "      <td>-1.574200</td>\n",
       "      <td>Never-married</td>\n",
       "      <td>Own-child</td>\n",
       "      <td>0</td>\n",
       "      <td>-0.028736</td>\n",
       "      <td>United-States</td>\n",
       "    </tr>\n",
       "    <tr>\n",
       "      <th>4</th>\n",
       "      <td>2.651910</td>\n",
       "      <td>Married-civ-spouse</td>\n",
       "      <td>Husband</td>\n",
       "      <td>0</td>\n",
       "      <td>-2.841884</td>\n",
       "      <td>United-States</td>\n",
       "    </tr>\n",
       "    <tr>\n",
       "      <th>...</th>\n",
       "      <td>...</td>\n",
       "      <td>...</td>\n",
       "      <td>...</td>\n",
       "      <td>...</td>\n",
       "      <td>...</td>\n",
       "      <td>...</td>\n",
       "    </tr>\n",
       "    <tr>\n",
       "      <th>14995</th>\n",
       "      <td>-0.626968</td>\n",
       "      <td>Married-civ-spouse</td>\n",
       "      <td>Husband</td>\n",
       "      <td>0</td>\n",
       "      <td>3.588168</td>\n",
       "      <td>United-States</td>\n",
       "    </tr>\n",
       "    <tr>\n",
       "      <th>14996</th>\n",
       "      <td>0.830311</td>\n",
       "      <td>Married-civ-spouse</td>\n",
       "      <td>Husband</td>\n",
       "      <td>0</td>\n",
       "      <td>-0.028736</td>\n",
       "      <td>United-States</td>\n",
       "    </tr>\n",
       "    <tr>\n",
       "      <th>14997</th>\n",
       "      <td>1.486087</td>\n",
       "      <td>Divorced</td>\n",
       "      <td>Unmarried</td>\n",
       "      <td>0</td>\n",
       "      <td>0.373142</td>\n",
       "      <td>United-States</td>\n",
       "    </tr>\n",
       "    <tr>\n",
       "      <th>14998</th>\n",
       "      <td>-0.044056</td>\n",
       "      <td>Never-married</td>\n",
       "      <td>Not-in-family</td>\n",
       "      <td>1</td>\n",
       "      <td>-0.028736</td>\n",
       "      <td>United-States</td>\n",
       "    </tr>\n",
       "    <tr>\n",
       "      <th>14999</th>\n",
       "      <td>0.538855</td>\n",
       "      <td>Never-married</td>\n",
       "      <td>Not-in-family</td>\n",
       "      <td>1</td>\n",
       "      <td>-0.189487</td>\n",
       "      <td>United-States</td>\n",
       "    </tr>\n",
       "  </tbody>\n",
       "</table>\n",
       "<p>14746 rows × 6 columns</p>\n",
       "</div>"
      ],
      "text/plain": [
       "            age       marital-status    relationship  gender  hours-per-week  \\\n",
       "0     -0.918424   Married-civ-spouse            Wife       1       -0.028736   \n",
       "1      0.101672   Married-civ-spouse         Husband       0        0.373142   \n",
       "2     -0.335512   Married-civ-spouse         Husband       0       -0.028736   \n",
       "3     -1.574200        Never-married       Own-child       0       -0.028736   \n",
       "4      2.651910   Married-civ-spouse         Husband       0       -2.841884   \n",
       "...         ...                  ...             ...     ...             ...   \n",
       "14995 -0.626968   Married-civ-spouse         Husband       0        3.588168   \n",
       "14996  0.830311   Married-civ-spouse         Husband       0       -0.028736   \n",
       "14997  1.486087             Divorced       Unmarried       0        0.373142   \n",
       "14998 -0.044056        Never-married   Not-in-family       1       -0.028736   \n",
       "14999  0.538855        Never-married   Not-in-family       1       -0.189487   \n",
       "\n",
       "              country  \n",
       "0       United-States  \n",
       "1       United-States  \n",
       "2       United-States  \n",
       "3       United-States  \n",
       "4       United-States  \n",
       "...               ...  \n",
       "14995   United-States  \n",
       "14996   United-States  \n",
       "14997   United-States  \n",
       "14998   United-States  \n",
       "14999   United-States  \n",
       "\n",
       "[14746 rows x 6 columns]"
      ]
     },
     "execution_count": 40,
     "metadata": {},
     "output_type": "execute_result"
    }
   ],
   "source": [
    "df"
   ]
  },
  {
   "cell_type": "code",
   "execution_count": 41,
   "id": "87c05447",
   "metadata": {},
   "outputs": [
    {
     "data": {
      "text/html": [
       "<div>\n",
       "<style scoped>\n",
       "    .dataframe tbody tr th:only-of-type {\n",
       "        vertical-align: middle;\n",
       "    }\n",
       "\n",
       "    .dataframe tbody tr th {\n",
       "        vertical-align: top;\n",
       "    }\n",
       "\n",
       "    .dataframe thead th {\n",
       "        text-align: right;\n",
       "    }\n",
       "</style>\n",
       "<table border=\"1\" class=\"dataframe\">\n",
       "  <thead>\n",
       "    <tr style=\"text-align: right;\">\n",
       "      <th></th>\n",
       "      <th>age</th>\n",
       "      <th>gender</th>\n",
       "      <th>hours-per-week</th>\n",
       "      <th>marital-status_ Divorced</th>\n",
       "      <th>marital-status_ Married-AF-spouse</th>\n",
       "      <th>marital-status_ Married-civ-spouse</th>\n",
       "      <th>marital-status_ Married-spouse-absent</th>\n",
       "      <th>marital-status_ Never-married</th>\n",
       "      <th>marital-status_ Separated</th>\n",
       "      <th>marital-status_ Widowed</th>\n",
       "      <th>...</th>\n",
       "      <th>country_ Portugal</th>\n",
       "      <th>country_ Puerto-Rico</th>\n",
       "      <th>country_ Scotland</th>\n",
       "      <th>country_ South</th>\n",
       "      <th>country_ Taiwan</th>\n",
       "      <th>country_ Thailand</th>\n",
       "      <th>country_ Trinadad&amp;Tobago</th>\n",
       "      <th>country_ United-States</th>\n",
       "      <th>country_ Vietnam</th>\n",
       "      <th>country_ Yugoslavia</th>\n",
       "    </tr>\n",
       "  </thead>\n",
       "  <tbody>\n",
       "    <tr>\n",
       "      <th>0</th>\n",
       "      <td>-0.918424</td>\n",
       "      <td>1</td>\n",
       "      <td>-0.028736</td>\n",
       "      <td>0</td>\n",
       "      <td>0</td>\n",
       "      <td>1</td>\n",
       "      <td>0</td>\n",
       "      <td>0</td>\n",
       "      <td>0</td>\n",
       "      <td>0</td>\n",
       "      <td>...</td>\n",
       "      <td>0</td>\n",
       "      <td>0</td>\n",
       "      <td>0</td>\n",
       "      <td>0</td>\n",
       "      <td>0</td>\n",
       "      <td>0</td>\n",
       "      <td>0</td>\n",
       "      <td>1</td>\n",
       "      <td>0</td>\n",
       "      <td>0</td>\n",
       "    </tr>\n",
       "    <tr>\n",
       "      <th>1</th>\n",
       "      <td>0.101672</td>\n",
       "      <td>0</td>\n",
       "      <td>0.373142</td>\n",
       "      <td>0</td>\n",
       "      <td>0</td>\n",
       "      <td>1</td>\n",
       "      <td>0</td>\n",
       "      <td>0</td>\n",
       "      <td>0</td>\n",
       "      <td>0</td>\n",
       "      <td>...</td>\n",
       "      <td>0</td>\n",
       "      <td>0</td>\n",
       "      <td>0</td>\n",
       "      <td>0</td>\n",
       "      <td>0</td>\n",
       "      <td>0</td>\n",
       "      <td>0</td>\n",
       "      <td>1</td>\n",
       "      <td>0</td>\n",
       "      <td>0</td>\n",
       "    </tr>\n",
       "    <tr>\n",
       "      <th>2</th>\n",
       "      <td>-0.335512</td>\n",
       "      <td>0</td>\n",
       "      <td>-0.028736</td>\n",
       "      <td>0</td>\n",
       "      <td>0</td>\n",
       "      <td>1</td>\n",
       "      <td>0</td>\n",
       "      <td>0</td>\n",
       "      <td>0</td>\n",
       "      <td>0</td>\n",
       "      <td>...</td>\n",
       "      <td>0</td>\n",
       "      <td>0</td>\n",
       "      <td>0</td>\n",
       "      <td>0</td>\n",
       "      <td>0</td>\n",
       "      <td>0</td>\n",
       "      <td>0</td>\n",
       "      <td>1</td>\n",
       "      <td>0</td>\n",
       "      <td>0</td>\n",
       "    </tr>\n",
       "    <tr>\n",
       "      <th>3</th>\n",
       "      <td>-1.574200</td>\n",
       "      <td>0</td>\n",
       "      <td>-0.028736</td>\n",
       "      <td>0</td>\n",
       "      <td>0</td>\n",
       "      <td>0</td>\n",
       "      <td>0</td>\n",
       "      <td>1</td>\n",
       "      <td>0</td>\n",
       "      <td>0</td>\n",
       "      <td>...</td>\n",
       "      <td>0</td>\n",
       "      <td>0</td>\n",
       "      <td>0</td>\n",
       "      <td>0</td>\n",
       "      <td>0</td>\n",
       "      <td>0</td>\n",
       "      <td>0</td>\n",
       "      <td>1</td>\n",
       "      <td>0</td>\n",
       "      <td>0</td>\n",
       "    </tr>\n",
       "    <tr>\n",
       "      <th>4</th>\n",
       "      <td>2.651910</td>\n",
       "      <td>0</td>\n",
       "      <td>-2.841884</td>\n",
       "      <td>0</td>\n",
       "      <td>0</td>\n",
       "      <td>1</td>\n",
       "      <td>0</td>\n",
       "      <td>0</td>\n",
       "      <td>0</td>\n",
       "      <td>0</td>\n",
       "      <td>...</td>\n",
       "      <td>0</td>\n",
       "      <td>0</td>\n",
       "      <td>0</td>\n",
       "      <td>0</td>\n",
       "      <td>0</td>\n",
       "      <td>0</td>\n",
       "      <td>0</td>\n",
       "      <td>1</td>\n",
       "      <td>0</td>\n",
       "      <td>0</td>\n",
       "    </tr>\n",
       "    <tr>\n",
       "      <th>...</th>\n",
       "      <td>...</td>\n",
       "      <td>...</td>\n",
       "      <td>...</td>\n",
       "      <td>...</td>\n",
       "      <td>...</td>\n",
       "      <td>...</td>\n",
       "      <td>...</td>\n",
       "      <td>...</td>\n",
       "      <td>...</td>\n",
       "      <td>...</td>\n",
       "      <td>...</td>\n",
       "      <td>...</td>\n",
       "      <td>...</td>\n",
       "      <td>...</td>\n",
       "      <td>...</td>\n",
       "      <td>...</td>\n",
       "      <td>...</td>\n",
       "      <td>...</td>\n",
       "      <td>...</td>\n",
       "      <td>...</td>\n",
       "      <td>...</td>\n",
       "    </tr>\n",
       "    <tr>\n",
       "      <th>14995</th>\n",
       "      <td>-0.626968</td>\n",
       "      <td>0</td>\n",
       "      <td>3.588168</td>\n",
       "      <td>0</td>\n",
       "      <td>0</td>\n",
       "      <td>1</td>\n",
       "      <td>0</td>\n",
       "      <td>0</td>\n",
       "      <td>0</td>\n",
       "      <td>0</td>\n",
       "      <td>...</td>\n",
       "      <td>0</td>\n",
       "      <td>0</td>\n",
       "      <td>0</td>\n",
       "      <td>0</td>\n",
       "      <td>0</td>\n",
       "      <td>0</td>\n",
       "      <td>0</td>\n",
       "      <td>1</td>\n",
       "      <td>0</td>\n",
       "      <td>0</td>\n",
       "    </tr>\n",
       "    <tr>\n",
       "      <th>14996</th>\n",
       "      <td>0.830311</td>\n",
       "      <td>0</td>\n",
       "      <td>-0.028736</td>\n",
       "      <td>0</td>\n",
       "      <td>0</td>\n",
       "      <td>1</td>\n",
       "      <td>0</td>\n",
       "      <td>0</td>\n",
       "      <td>0</td>\n",
       "      <td>0</td>\n",
       "      <td>...</td>\n",
       "      <td>0</td>\n",
       "      <td>0</td>\n",
       "      <td>0</td>\n",
       "      <td>0</td>\n",
       "      <td>0</td>\n",
       "      <td>0</td>\n",
       "      <td>0</td>\n",
       "      <td>1</td>\n",
       "      <td>0</td>\n",
       "      <td>0</td>\n",
       "    </tr>\n",
       "    <tr>\n",
       "      <th>14997</th>\n",
       "      <td>1.486087</td>\n",
       "      <td>0</td>\n",
       "      <td>0.373142</td>\n",
       "      <td>1</td>\n",
       "      <td>0</td>\n",
       "      <td>0</td>\n",
       "      <td>0</td>\n",
       "      <td>0</td>\n",
       "      <td>0</td>\n",
       "      <td>0</td>\n",
       "      <td>...</td>\n",
       "      <td>0</td>\n",
       "      <td>0</td>\n",
       "      <td>0</td>\n",
       "      <td>0</td>\n",
       "      <td>0</td>\n",
       "      <td>0</td>\n",
       "      <td>0</td>\n",
       "      <td>1</td>\n",
       "      <td>0</td>\n",
       "      <td>0</td>\n",
       "    </tr>\n",
       "    <tr>\n",
       "      <th>14998</th>\n",
       "      <td>-0.044056</td>\n",
       "      <td>1</td>\n",
       "      <td>-0.028736</td>\n",
       "      <td>0</td>\n",
       "      <td>0</td>\n",
       "      <td>0</td>\n",
       "      <td>0</td>\n",
       "      <td>1</td>\n",
       "      <td>0</td>\n",
       "      <td>0</td>\n",
       "      <td>...</td>\n",
       "      <td>0</td>\n",
       "      <td>0</td>\n",
       "      <td>0</td>\n",
       "      <td>0</td>\n",
       "      <td>0</td>\n",
       "      <td>0</td>\n",
       "      <td>0</td>\n",
       "      <td>1</td>\n",
       "      <td>0</td>\n",
       "      <td>0</td>\n",
       "    </tr>\n",
       "    <tr>\n",
       "      <th>14999</th>\n",
       "      <td>0.538855</td>\n",
       "      <td>1</td>\n",
       "      <td>-0.189487</td>\n",
       "      <td>0</td>\n",
       "      <td>0</td>\n",
       "      <td>0</td>\n",
       "      <td>0</td>\n",
       "      <td>1</td>\n",
       "      <td>0</td>\n",
       "      <td>0</td>\n",
       "      <td>...</td>\n",
       "      <td>0</td>\n",
       "      <td>0</td>\n",
       "      <td>0</td>\n",
       "      <td>0</td>\n",
       "      <td>0</td>\n",
       "      <td>0</td>\n",
       "      <td>0</td>\n",
       "      <td>1</td>\n",
       "      <td>0</td>\n",
       "      <td>0</td>\n",
       "    </tr>\n",
       "  </tbody>\n",
       "</table>\n",
       "<p>14746 rows × 56 columns</p>\n",
       "</div>"
      ],
      "text/plain": [
       "            age  gender  hours-per-week  marital-status_ Divorced  \\\n",
       "0     -0.918424       1       -0.028736                         0   \n",
       "1      0.101672       0        0.373142                         0   \n",
       "2     -0.335512       0       -0.028736                         0   \n",
       "3     -1.574200       0       -0.028736                         0   \n",
       "4      2.651910       0       -2.841884                         0   \n",
       "...         ...     ...             ...                       ...   \n",
       "14995 -0.626968       0        3.588168                         0   \n",
       "14996  0.830311       0       -0.028736                         0   \n",
       "14997  1.486087       0        0.373142                         1   \n",
       "14998 -0.044056       1       -0.028736                         0   \n",
       "14999  0.538855       1       -0.189487                         0   \n",
       "\n",
       "       marital-status_ Married-AF-spouse  marital-status_ Married-civ-spouse  \\\n",
       "0                                      0                                   1   \n",
       "1                                      0                                   1   \n",
       "2                                      0                                   1   \n",
       "3                                      0                                   0   \n",
       "4                                      0                                   1   \n",
       "...                                  ...                                 ...   \n",
       "14995                                  0                                   1   \n",
       "14996                                  0                                   1   \n",
       "14997                                  0                                   0   \n",
       "14998                                  0                                   0   \n",
       "14999                                  0                                   0   \n",
       "\n",
       "       marital-status_ Married-spouse-absent  marital-status_ Never-married  \\\n",
       "0                                          0                              0   \n",
       "1                                          0                              0   \n",
       "2                                          0                              0   \n",
       "3                                          0                              1   \n",
       "4                                          0                              0   \n",
       "...                                      ...                            ...   \n",
       "14995                                      0                              0   \n",
       "14996                                      0                              0   \n",
       "14997                                      0                              0   \n",
       "14998                                      0                              1   \n",
       "14999                                      0                              1   \n",
       "\n",
       "       marital-status_ Separated  marital-status_ Widowed  ...  \\\n",
       "0                              0                        0  ...   \n",
       "1                              0                        0  ...   \n",
       "2                              0                        0  ...   \n",
       "3                              0                        0  ...   \n",
       "4                              0                        0  ...   \n",
       "...                          ...                      ...  ...   \n",
       "14995                          0                        0  ...   \n",
       "14996                          0                        0  ...   \n",
       "14997                          0                        0  ...   \n",
       "14998                          0                        0  ...   \n",
       "14999                          0                        0  ...   \n",
       "\n",
       "       country_ Portugal  country_ Puerto-Rico  country_ Scotland  \\\n",
       "0                      0                     0                  0   \n",
       "1                      0                     0                  0   \n",
       "2                      0                     0                  0   \n",
       "3                      0                     0                  0   \n",
       "4                      0                     0                  0   \n",
       "...                  ...                   ...                ...   \n",
       "14995                  0                     0                  0   \n",
       "14996                  0                     0                  0   \n",
       "14997                  0                     0                  0   \n",
       "14998                  0                     0                  0   \n",
       "14999                  0                     0                  0   \n",
       "\n",
       "       country_ South  country_ Taiwan  country_ Thailand  \\\n",
       "0                   0                0                  0   \n",
       "1                   0                0                  0   \n",
       "2                   0                0                  0   \n",
       "3                   0                0                  0   \n",
       "4                   0                0                  0   \n",
       "...               ...              ...                ...   \n",
       "14995               0                0                  0   \n",
       "14996               0                0                  0   \n",
       "14997               0                0                  0   \n",
       "14998               0                0                  0   \n",
       "14999               0                0                  0   \n",
       "\n",
       "       country_ Trinadad&Tobago  country_ United-States  country_ Vietnam  \\\n",
       "0                             0                       1                 0   \n",
       "1                             0                       1                 0   \n",
       "2                             0                       1                 0   \n",
       "3                             0                       1                 0   \n",
       "4                             0                       1                 0   \n",
       "...                         ...                     ...               ...   \n",
       "14995                         0                       1                 0   \n",
       "14996                         0                       1                 0   \n",
       "14997                         0                       1                 0   \n",
       "14998                         0                       1                 0   \n",
       "14999                         0                       1                 0   \n",
       "\n",
       "       country_ Yugoslavia  \n",
       "0                        0  \n",
       "1                        0  \n",
       "2                        0  \n",
       "3                        0  \n",
       "4                        0  \n",
       "...                    ...  \n",
       "14995                    0  \n",
       "14996                    0  \n",
       "14997                    0  \n",
       "14998                    0  \n",
       "14999                    0  \n",
       "\n",
       "[14746 rows x 56 columns]"
      ]
     },
     "execution_count": 41,
     "metadata": {},
     "output_type": "execute_result"
    }
   ],
   "source": [
    "dummy_data = pd.get_dummies(df)\n",
    "dummy_data"
   ]
  },
  {
   "cell_type": "markdown",
   "id": "0ad22d22",
   "metadata": {},
   "source": [
    "### Exercise 5"
   ]
  },
  {
   "cell_type": "code",
   "execution_count": 42,
   "id": "a960f4e1",
   "metadata": {},
   "outputs": [
    {
     "data": {
      "text/plain": [
       "Index(['gender', 'marital-status_ Divorced',\n",
       "       'marital-status_ Married-AF-spouse',\n",
       "       'marital-status_ Married-civ-spouse',\n",
       "       'marital-status_ Married-spouse-absent',\n",
       "       'marital-status_ Never-married', 'marital-status_ Separated',\n",
       "       'marital-status_ Widowed', 'relationship_ Husband',\n",
       "       'relationship_ Not-in-family', 'relationship_ Other-relative',\n",
       "       'relationship_ Own-child', 'relationship_ Unmarried',\n",
       "       'relationship_ Wife', 'country_ Cambodia', 'country_ Canada',\n",
       "       'country_ China', 'country_ Columbia', 'country_ Cuba',\n",
       "       'country_ Dominican-Republic', 'country_ Ecuador',\n",
       "       'country_ El-Salvador', 'country_ England', 'country_ France',\n",
       "       'country_ Germany', 'country_ Greece', 'country_ Guatemala',\n",
       "       'country_ Haiti', 'country_ Honduras', 'country_ Hong',\n",
       "       'country_ Hungary', 'country_ India', 'country_ Iran',\n",
       "       'country_ Ireland', 'country_ Italy', 'country_ Jamaica',\n",
       "       'country_ Japan', 'country_ Laos', 'country_ Mexico',\n",
       "       'country_ Nicaragua', 'country_ Outlying-US(Guam-USVI-etc)',\n",
       "       'country_ Peru', 'country_ Philippines', 'country_ Poland',\n",
       "       'country_ Portugal', 'country_ Puerto-Rico', 'country_ Scotland',\n",
       "       'country_ South', 'country_ Taiwan', 'country_ Thailand',\n",
       "       'country_ Trinadad&Tobago', 'country_ United-States',\n",
       "       'country_ Vietnam', 'country_ Yugoslavia'],\n",
       "      dtype='object')"
      ]
     },
     "execution_count": 42,
     "metadata": {},
     "output_type": "execute_result"
    }
   ],
   "source": [
    "dummy_data.select_dtypes(exclude=['float64']).columns"
   ]
  },
  {
   "cell_type": "code",
   "execution_count": 43,
   "id": "8aafc990",
   "metadata": {},
   "outputs": [],
   "source": [
    "normalized_data = dummy_data[['gender', 'marital-status_ Divorced',\n",
    "       'marital-status_ Married-AF-spouse',\n",
    "       'marital-status_ Married-civ-spouse',\n",
    "       'marital-status_ Married-spouse-absent',\n",
    "       'marital-status_ Never-married', 'marital-status_ Separated',\n",
    "       'marital-status_ Widowed', 'relationship_ Husband',\n",
    "       'relationship_ Not-in-family', 'relationship_ Other-relative',\n",
    "       'relationship_ Own-child', 'relationship_ Unmarried',\n",
    "       'relationship_ Wife', 'country_ Cambodia', 'country_ Canada',\n",
    "       'country_ China', 'country_ Columbia', 'country_ Cuba',\n",
    "       'country_ Dominican-Republic', 'country_ Ecuador',\n",
    "       'country_ El-Salvador', 'country_ England', 'country_ France',\n",
    "       'country_ Germany', 'country_ Greece', 'country_ Guatemala',\n",
    "       'country_ Haiti', 'country_ Honduras', 'country_ Hong',\n",
    "       'country_ Hungary', 'country_ India', 'country_ Iran',\n",
    "       'country_ Ireland', 'country_ Italy', 'country_ Jamaica',\n",
    "       'country_ Japan', 'country_ Laos', 'country_ Mexico',\n",
    "       'country_ Nicaragua', 'country_ Outlying-US(Guam-USVI-etc)',\n",
    "       'country_ Peru', 'country_ Philippines', 'country_ Poland',\n",
    "       'country_ Portugal', 'country_ Puerto-Rico', 'country_ Scotland',\n",
    "       'country_ South', 'country_ Taiwan', 'country_ Thailand',\n",
    "       'country_ Trinadad&Tobago', 'country_ United-States',\n",
    "       'country_ Vietnam', 'country_ Yugoslavia']].copy()"
   ]
  },
  {
   "cell_type": "code",
   "execution_count": 44,
   "id": "5820e2ae",
   "metadata": {},
   "outputs": [
    {
     "data": {
      "text/html": [
       "<div>\n",
       "<style scoped>\n",
       "    .dataframe tbody tr th:only-of-type {\n",
       "        vertical-align: middle;\n",
       "    }\n",
       "\n",
       "    .dataframe tbody tr th {\n",
       "        vertical-align: top;\n",
       "    }\n",
       "\n",
       "    .dataframe thead th {\n",
       "        text-align: right;\n",
       "    }\n",
       "</style>\n",
       "<table border=\"1\" class=\"dataframe\">\n",
       "  <thead>\n",
       "    <tr style=\"text-align: right;\">\n",
       "      <th></th>\n",
       "      <th>gender</th>\n",
       "      <th>marital-status_ Divorced</th>\n",
       "      <th>marital-status_ Married-AF-spouse</th>\n",
       "      <th>marital-status_ Married-civ-spouse</th>\n",
       "      <th>marital-status_ Married-spouse-absent</th>\n",
       "      <th>marital-status_ Never-married</th>\n",
       "      <th>marital-status_ Separated</th>\n",
       "      <th>marital-status_ Widowed</th>\n",
       "      <th>relationship_ Husband</th>\n",
       "      <th>relationship_ Not-in-family</th>\n",
       "      <th>...</th>\n",
       "      <th>country_ Portugal</th>\n",
       "      <th>country_ Puerto-Rico</th>\n",
       "      <th>country_ Scotland</th>\n",
       "      <th>country_ South</th>\n",
       "      <th>country_ Taiwan</th>\n",
       "      <th>country_ Thailand</th>\n",
       "      <th>country_ Trinadad&amp;Tobago</th>\n",
       "      <th>country_ United-States</th>\n",
       "      <th>country_ Vietnam</th>\n",
       "      <th>country_ Yugoslavia</th>\n",
       "    </tr>\n",
       "  </thead>\n",
       "  <tbody>\n",
       "    <tr>\n",
       "      <th>0</th>\n",
       "      <td>1</td>\n",
       "      <td>0</td>\n",
       "      <td>0</td>\n",
       "      <td>1</td>\n",
       "      <td>0</td>\n",
       "      <td>0</td>\n",
       "      <td>0</td>\n",
       "      <td>0</td>\n",
       "      <td>0</td>\n",
       "      <td>0</td>\n",
       "      <td>...</td>\n",
       "      <td>0</td>\n",
       "      <td>0</td>\n",
       "      <td>0</td>\n",
       "      <td>0</td>\n",
       "      <td>0</td>\n",
       "      <td>0</td>\n",
       "      <td>0</td>\n",
       "      <td>1</td>\n",
       "      <td>0</td>\n",
       "      <td>0</td>\n",
       "    </tr>\n",
       "    <tr>\n",
       "      <th>1</th>\n",
       "      <td>0</td>\n",
       "      <td>0</td>\n",
       "      <td>0</td>\n",
       "      <td>1</td>\n",
       "      <td>0</td>\n",
       "      <td>0</td>\n",
       "      <td>0</td>\n",
       "      <td>0</td>\n",
       "      <td>1</td>\n",
       "      <td>0</td>\n",
       "      <td>...</td>\n",
       "      <td>0</td>\n",
       "      <td>0</td>\n",
       "      <td>0</td>\n",
       "      <td>0</td>\n",
       "      <td>0</td>\n",
       "      <td>0</td>\n",
       "      <td>0</td>\n",
       "      <td>1</td>\n",
       "      <td>0</td>\n",
       "      <td>0</td>\n",
       "    </tr>\n",
       "    <tr>\n",
       "      <th>2</th>\n",
       "      <td>0</td>\n",
       "      <td>0</td>\n",
       "      <td>0</td>\n",
       "      <td>1</td>\n",
       "      <td>0</td>\n",
       "      <td>0</td>\n",
       "      <td>0</td>\n",
       "      <td>0</td>\n",
       "      <td>1</td>\n",
       "      <td>0</td>\n",
       "      <td>...</td>\n",
       "      <td>0</td>\n",
       "      <td>0</td>\n",
       "      <td>0</td>\n",
       "      <td>0</td>\n",
       "      <td>0</td>\n",
       "      <td>0</td>\n",
       "      <td>0</td>\n",
       "      <td>1</td>\n",
       "      <td>0</td>\n",
       "      <td>0</td>\n",
       "    </tr>\n",
       "    <tr>\n",
       "      <th>3</th>\n",
       "      <td>0</td>\n",
       "      <td>0</td>\n",
       "      <td>0</td>\n",
       "      <td>0</td>\n",
       "      <td>0</td>\n",
       "      <td>1</td>\n",
       "      <td>0</td>\n",
       "      <td>0</td>\n",
       "      <td>0</td>\n",
       "      <td>0</td>\n",
       "      <td>...</td>\n",
       "      <td>0</td>\n",
       "      <td>0</td>\n",
       "      <td>0</td>\n",
       "      <td>0</td>\n",
       "      <td>0</td>\n",
       "      <td>0</td>\n",
       "      <td>0</td>\n",
       "      <td>1</td>\n",
       "      <td>0</td>\n",
       "      <td>0</td>\n",
       "    </tr>\n",
       "    <tr>\n",
       "      <th>4</th>\n",
       "      <td>0</td>\n",
       "      <td>0</td>\n",
       "      <td>0</td>\n",
       "      <td>1</td>\n",
       "      <td>0</td>\n",
       "      <td>0</td>\n",
       "      <td>0</td>\n",
       "      <td>0</td>\n",
       "      <td>1</td>\n",
       "      <td>0</td>\n",
       "      <td>...</td>\n",
       "      <td>0</td>\n",
       "      <td>0</td>\n",
       "      <td>0</td>\n",
       "      <td>0</td>\n",
       "      <td>0</td>\n",
       "      <td>0</td>\n",
       "      <td>0</td>\n",
       "      <td>1</td>\n",
       "      <td>0</td>\n",
       "      <td>0</td>\n",
       "    </tr>\n",
       "    <tr>\n",
       "      <th>...</th>\n",
       "      <td>...</td>\n",
       "      <td>...</td>\n",
       "      <td>...</td>\n",
       "      <td>...</td>\n",
       "      <td>...</td>\n",
       "      <td>...</td>\n",
       "      <td>...</td>\n",
       "      <td>...</td>\n",
       "      <td>...</td>\n",
       "      <td>...</td>\n",
       "      <td>...</td>\n",
       "      <td>...</td>\n",
       "      <td>...</td>\n",
       "      <td>...</td>\n",
       "      <td>...</td>\n",
       "      <td>...</td>\n",
       "      <td>...</td>\n",
       "      <td>...</td>\n",
       "      <td>...</td>\n",
       "      <td>...</td>\n",
       "      <td>...</td>\n",
       "    </tr>\n",
       "    <tr>\n",
       "      <th>14995</th>\n",
       "      <td>0</td>\n",
       "      <td>0</td>\n",
       "      <td>0</td>\n",
       "      <td>1</td>\n",
       "      <td>0</td>\n",
       "      <td>0</td>\n",
       "      <td>0</td>\n",
       "      <td>0</td>\n",
       "      <td>1</td>\n",
       "      <td>0</td>\n",
       "      <td>...</td>\n",
       "      <td>0</td>\n",
       "      <td>0</td>\n",
       "      <td>0</td>\n",
       "      <td>0</td>\n",
       "      <td>0</td>\n",
       "      <td>0</td>\n",
       "      <td>0</td>\n",
       "      <td>1</td>\n",
       "      <td>0</td>\n",
       "      <td>0</td>\n",
       "    </tr>\n",
       "    <tr>\n",
       "      <th>14996</th>\n",
       "      <td>0</td>\n",
       "      <td>0</td>\n",
       "      <td>0</td>\n",
       "      <td>1</td>\n",
       "      <td>0</td>\n",
       "      <td>0</td>\n",
       "      <td>0</td>\n",
       "      <td>0</td>\n",
       "      <td>1</td>\n",
       "      <td>0</td>\n",
       "      <td>...</td>\n",
       "      <td>0</td>\n",
       "      <td>0</td>\n",
       "      <td>0</td>\n",
       "      <td>0</td>\n",
       "      <td>0</td>\n",
       "      <td>0</td>\n",
       "      <td>0</td>\n",
       "      <td>1</td>\n",
       "      <td>0</td>\n",
       "      <td>0</td>\n",
       "    </tr>\n",
       "    <tr>\n",
       "      <th>14997</th>\n",
       "      <td>0</td>\n",
       "      <td>1</td>\n",
       "      <td>0</td>\n",
       "      <td>0</td>\n",
       "      <td>0</td>\n",
       "      <td>0</td>\n",
       "      <td>0</td>\n",
       "      <td>0</td>\n",
       "      <td>0</td>\n",
       "      <td>0</td>\n",
       "      <td>...</td>\n",
       "      <td>0</td>\n",
       "      <td>0</td>\n",
       "      <td>0</td>\n",
       "      <td>0</td>\n",
       "      <td>0</td>\n",
       "      <td>0</td>\n",
       "      <td>0</td>\n",
       "      <td>1</td>\n",
       "      <td>0</td>\n",
       "      <td>0</td>\n",
       "    </tr>\n",
       "    <tr>\n",
       "      <th>14998</th>\n",
       "      <td>1</td>\n",
       "      <td>0</td>\n",
       "      <td>0</td>\n",
       "      <td>0</td>\n",
       "      <td>0</td>\n",
       "      <td>1</td>\n",
       "      <td>0</td>\n",
       "      <td>0</td>\n",
       "      <td>0</td>\n",
       "      <td>1</td>\n",
       "      <td>...</td>\n",
       "      <td>0</td>\n",
       "      <td>0</td>\n",
       "      <td>0</td>\n",
       "      <td>0</td>\n",
       "      <td>0</td>\n",
       "      <td>0</td>\n",
       "      <td>0</td>\n",
       "      <td>1</td>\n",
       "      <td>0</td>\n",
       "      <td>0</td>\n",
       "    </tr>\n",
       "    <tr>\n",
       "      <th>14999</th>\n",
       "      <td>1</td>\n",
       "      <td>0</td>\n",
       "      <td>0</td>\n",
       "      <td>0</td>\n",
       "      <td>0</td>\n",
       "      <td>1</td>\n",
       "      <td>0</td>\n",
       "      <td>0</td>\n",
       "      <td>0</td>\n",
       "      <td>1</td>\n",
       "      <td>...</td>\n",
       "      <td>0</td>\n",
       "      <td>0</td>\n",
       "      <td>0</td>\n",
       "      <td>0</td>\n",
       "      <td>0</td>\n",
       "      <td>0</td>\n",
       "      <td>0</td>\n",
       "      <td>1</td>\n",
       "      <td>0</td>\n",
       "      <td>0</td>\n",
       "    </tr>\n",
       "  </tbody>\n",
       "</table>\n",
       "<p>14746 rows × 54 columns</p>\n",
       "</div>"
      ],
      "text/plain": [
       "       gender  marital-status_ Divorced  marital-status_ Married-AF-spouse  \\\n",
       "0           1                         0                                  0   \n",
       "1           0                         0                                  0   \n",
       "2           0                         0                                  0   \n",
       "3           0                         0                                  0   \n",
       "4           0                         0                                  0   \n",
       "...       ...                       ...                                ...   \n",
       "14995       0                         0                                  0   \n",
       "14996       0                         0                                  0   \n",
       "14997       0                         1                                  0   \n",
       "14998       1                         0                                  0   \n",
       "14999       1                         0                                  0   \n",
       "\n",
       "       marital-status_ Married-civ-spouse  \\\n",
       "0                                       1   \n",
       "1                                       1   \n",
       "2                                       1   \n",
       "3                                       0   \n",
       "4                                       1   \n",
       "...                                   ...   \n",
       "14995                                   1   \n",
       "14996                                   1   \n",
       "14997                                   0   \n",
       "14998                                   0   \n",
       "14999                                   0   \n",
       "\n",
       "       marital-status_ Married-spouse-absent  marital-status_ Never-married  \\\n",
       "0                                          0                              0   \n",
       "1                                          0                              0   \n",
       "2                                          0                              0   \n",
       "3                                          0                              1   \n",
       "4                                          0                              0   \n",
       "...                                      ...                            ...   \n",
       "14995                                      0                              0   \n",
       "14996                                      0                              0   \n",
       "14997                                      0                              0   \n",
       "14998                                      0                              1   \n",
       "14999                                      0                              1   \n",
       "\n",
       "       marital-status_ Separated  marital-status_ Widowed  \\\n",
       "0                              0                        0   \n",
       "1                              0                        0   \n",
       "2                              0                        0   \n",
       "3                              0                        0   \n",
       "4                              0                        0   \n",
       "...                          ...                      ...   \n",
       "14995                          0                        0   \n",
       "14996                          0                        0   \n",
       "14997                          0                        0   \n",
       "14998                          0                        0   \n",
       "14999                          0                        0   \n",
       "\n",
       "       relationship_ Husband  relationship_ Not-in-family  ...  \\\n",
       "0                          0                            0  ...   \n",
       "1                          1                            0  ...   \n",
       "2                          1                            0  ...   \n",
       "3                          0                            0  ...   \n",
       "4                          1                            0  ...   \n",
       "...                      ...                          ...  ...   \n",
       "14995                      1                            0  ...   \n",
       "14996                      1                            0  ...   \n",
       "14997                      0                            0  ...   \n",
       "14998                      0                            1  ...   \n",
       "14999                      0                            1  ...   \n",
       "\n",
       "       country_ Portugal  country_ Puerto-Rico  country_ Scotland  \\\n",
       "0                      0                     0                  0   \n",
       "1                      0                     0                  0   \n",
       "2                      0                     0                  0   \n",
       "3                      0                     0                  0   \n",
       "4                      0                     0                  0   \n",
       "...                  ...                   ...                ...   \n",
       "14995                  0                     0                  0   \n",
       "14996                  0                     0                  0   \n",
       "14997                  0                     0                  0   \n",
       "14998                  0                     0                  0   \n",
       "14999                  0                     0                  0   \n",
       "\n",
       "       country_ South  country_ Taiwan  country_ Thailand  \\\n",
       "0                   0                0                  0   \n",
       "1                   0                0                  0   \n",
       "2                   0                0                  0   \n",
       "3                   0                0                  0   \n",
       "4                   0                0                  0   \n",
       "...               ...              ...                ...   \n",
       "14995               0                0                  0   \n",
       "14996               0                0                  0   \n",
       "14997               0                0                  0   \n",
       "14998               0                0                  0   \n",
       "14999               0                0                  0   \n",
       "\n",
       "       country_ Trinadad&Tobago  country_ United-States  country_ Vietnam  \\\n",
       "0                             0                       1                 0   \n",
       "1                             0                       1                 0   \n",
       "2                             0                       1                 0   \n",
       "3                             0                       1                 0   \n",
       "4                             0                       1                 0   \n",
       "...                         ...                     ...               ...   \n",
       "14995                         0                       1                 0   \n",
       "14996                         0                       1                 0   \n",
       "14997                         0                       1                 0   \n",
       "14998                         0                       1                 0   \n",
       "14999                         0                       1                 0   \n",
       "\n",
       "       country_ Yugoslavia  \n",
       "0                        0  \n",
       "1                        0  \n",
       "2                        0  \n",
       "3                        0  \n",
       "4                        0  \n",
       "...                    ...  \n",
       "14995                    0  \n",
       "14996                    0  \n",
       "14997                    0  \n",
       "14998                    0  \n",
       "14999                    0  \n",
       "\n",
       "[14746 rows x 54 columns]"
      ]
     },
     "execution_count": 44,
     "metadata": {},
     "output_type": "execute_result"
    }
   ],
   "source": [
    "normalized_data"
   ]
  },
  {
   "cell_type": "markdown",
   "id": "9908041f",
   "metadata": {},
   "source": [
    "# Part D"
   ]
  },
  {
   "cell_type": "markdown",
   "id": "d0e9bc1c",
   "metadata": {},
   "source": [
    "### Exercise 1"
   ]
  },
  {
   "cell_type": "markdown",
   "id": "73faf5e8",
   "metadata": {},
   "source": [
    "##### Section a"
   ]
  },
  {
   "cell_type": "code",
   "execution_count": 45,
   "id": "0d2e1ee8",
   "metadata": {},
   "outputs": [],
   "source": [
    "def get_kmeans_accuracy(data, top_k):\n",
    "    sum_squared = []\n",
    "    silhouette = []\n",
    "    K = range(2, top_k)\n",
    "    for i in K:\n",
    "        kmeans = KMeans(n_clusters = i, init = 'k-means++')\n",
    "        kmeans.fit(data)\n",
    "        sum_squared.append(kmeans.inertia_) # errors\n",
    "        silhouette.append(silhouette_score(data, kmeans.labels_))\n",
    "    return pd.DataFrame({\n",
    "    \"K\": K,\n",
    "    \"SSE\": sum_squared,\n",
    "    \"SIL\": silhouette\n",
    "  })"
   ]
  },
  {
   "cell_type": "code",
   "execution_count": 46,
   "id": "0c7a3ef7",
   "metadata": {},
   "outputs": [
    {
     "data": {
      "text/html": [
       "<div>\n",
       "<style scoped>\n",
       "    .dataframe tbody tr th:only-of-type {\n",
       "        vertical-align: middle;\n",
       "    }\n",
       "\n",
       "    .dataframe tbody tr th {\n",
       "        vertical-align: top;\n",
       "    }\n",
       "\n",
       "    .dataframe thead th {\n",
       "        text-align: right;\n",
       "    }\n",
       "</style>\n",
       "<table border=\"1\" class=\"dataframe\">\n",
       "  <thead>\n",
       "    <tr style=\"text-align: right;\">\n",
       "      <th></th>\n",
       "      <th>K</th>\n",
       "      <th>SSE</th>\n",
       "      <th>SIL</th>\n",
       "    </tr>\n",
       "  </thead>\n",
       "  <tbody>\n",
       "    <tr>\n",
       "      <th>0</th>\n",
       "      <td>2</td>\n",
       "      <td>16426.310435</td>\n",
       "      <td>0.463160</td>\n",
       "    </tr>\n",
       "    <tr>\n",
       "      <th>1</th>\n",
       "      <td>3</td>\n",
       "      <td>12994.231269</td>\n",
       "      <td>0.514268</td>\n",
       "    </tr>\n",
       "    <tr>\n",
       "      <th>2</th>\n",
       "      <td>4</td>\n",
       "      <td>11048.815528</td>\n",
       "      <td>0.538550</td>\n",
       "    </tr>\n",
       "    <tr>\n",
       "      <th>3</th>\n",
       "      <td>5</td>\n",
       "      <td>9116.618220</td>\n",
       "      <td>0.591388</td>\n",
       "    </tr>\n",
       "    <tr>\n",
       "      <th>4</th>\n",
       "      <td>6</td>\n",
       "      <td>7706.518579</td>\n",
       "      <td>0.619123</td>\n",
       "    </tr>\n",
       "    <tr>\n",
       "      <th>5</th>\n",
       "      <td>7</td>\n",
       "      <td>7083.821831</td>\n",
       "      <td>0.628399</td>\n",
       "    </tr>\n",
       "  </tbody>\n",
       "</table>\n",
       "</div>"
      ],
      "text/plain": [
       "   K           SSE       SIL\n",
       "0  2  16426.310435  0.463160\n",
       "1  3  12994.231269  0.514268\n",
       "2  4  11048.815528  0.538550\n",
       "3  5   9116.618220  0.591388\n",
       "4  6   7706.518579  0.619123\n",
       "5  7   7083.821831  0.628399"
      ]
     },
     "execution_count": 46,
     "metadata": {},
     "output_type": "execute_result"
    }
   ],
   "source": [
    "dummy_result = get_kmeans_accuracy(normalized_data, 8)\n",
    "dummy_result"
   ]
  },
  {
   "cell_type": "code",
   "execution_count": 47,
   "id": "b0777bff",
   "metadata": {},
   "outputs": [],
   "source": [
    "dummy_result.set_index(\"K\", inplace=True)"
   ]
  },
  {
   "cell_type": "code",
   "execution_count": 48,
   "id": "00716d83",
   "metadata": {},
   "outputs": [
    {
     "data": {
      "image/png": "[encoded data removed]",
      "text/plain": [
       "<Figure size 432x288 with 1 Axes>"
      ]
     },
     "metadata": {},
     "output_type": "display_data"
    }
   ],
   "source": [
    "dummy_result[\"SSE\"].plot()\n",
    "plt.show()"
   ]
  },
  {
   "cell_type": "code",
   "execution_count": 49,
   "id": "d4295bdc",
   "metadata": {},
   "outputs": [
    {
     "data": {
      "image/png": "[encoded data removed]",
      "text/plain": [
       "<Figure size 432x288 with 1 Axes>"
      ]
     },
     "metadata": {},
     "output_type": "display_data"
    }
   ],
   "source": [
    "dummy_result[\"SIL\"].plot()\n",
    "plt.show()"
   ]
  },
  {
   "cell_type": "code",
   "execution_count": 50,
   "id": "d64f8df6",
   "metadata": {},
   "outputs": [
    {
     "data": {
      "text/plain": [
       "KMeans(n_clusters=6)"
      ]
     },
     "execution_count": 50,
     "metadata": {},
     "output_type": "execute_result"
    }
   ],
   "source": [
    "dummy_kmeans = KMeans(n_clusters = 6, init = 'k-means++')\n",
    "dummy_kmeans.fit(normalized_data)"
   ]
  },
  {
   "cell_type": "markdown",
   "id": "063dbf83",
   "metadata": {},
   "source": [
    "##### Section b"
   ]
  },
  {
   "cell_type": "code",
   "execution_count": 51,
   "id": "66ca0378",
   "metadata": {},
   "outputs": [
    {
     "data": {
      "text/html": [
       "<div>\n",
       "<style scoped>\n",
       "    .dataframe tbody tr th:only-of-type {\n",
       "        vertical-align: middle;\n",
       "    }\n",
       "\n",
       "    .dataframe tbody tr th {\n",
       "        vertical-align: top;\n",
       "    }\n",
       "\n",
       "    .dataframe thead th {\n",
       "        text-align: right;\n",
       "    }\n",
       "</style>\n",
       "<table border=\"1\" class=\"dataframe\">\n",
       "  <thead>\n",
       "    <tr style=\"text-align: right;\">\n",
       "      <th></th>\n",
       "      <th>K</th>\n",
       "      <th>SSE</th>\n",
       "      <th>SIL</th>\n",
       "    </tr>\n",
       "  </thead>\n",
       "  <tbody>\n",
       "    <tr>\n",
       "      <th>0</th>\n",
       "      <td>2</td>\n",
       "      <td>16426.310435</td>\n",
       "      <td>0.463160</td>\n",
       "    </tr>\n",
       "    <tr>\n",
       "      <th>1</th>\n",
       "      <td>3</td>\n",
       "      <td>13158.087791</td>\n",
       "      <td>0.502740</td>\n",
       "    </tr>\n",
       "    <tr>\n",
       "      <th>2</th>\n",
       "      <td>4</td>\n",
       "      <td>11056.096984</td>\n",
       "      <td>0.537053</td>\n",
       "    </tr>\n",
       "    <tr>\n",
       "      <th>3</th>\n",
       "      <td>5</td>\n",
       "      <td>9116.618220</td>\n",
       "      <td>0.591388</td>\n",
       "    </tr>\n",
       "    <tr>\n",
       "      <th>4</th>\n",
       "      <td>6</td>\n",
       "      <td>7833.038542</td>\n",
       "      <td>0.612288</td>\n",
       "    </tr>\n",
       "    <tr>\n",
       "      <th>5</th>\n",
       "      <td>7</td>\n",
       "      <td>7042.659498</td>\n",
       "      <td>0.631000</td>\n",
       "    </tr>\n",
       "  </tbody>\n",
       "</table>\n",
       "</div>"
      ],
      "text/plain": [
       "   K           SSE       SIL\n",
       "0  2  16426.310435  0.463160\n",
       "1  3  13158.087791  0.502740\n",
       "2  4  11056.096984  0.537053\n",
       "3  5   9116.618220  0.591388\n",
       "4  6   7833.038542  0.612288\n",
       "5  7   7042.659498  0.631000"
      ]
     },
     "execution_count": 51,
     "metadata": {},
     "output_type": "execute_result"
    }
   ],
   "source": [
    "normalized_result = get_kmeans_accuracy(normalized_data, 8)\n",
    "normalized_result"
   ]
  },
  {
   "cell_type": "code",
   "execution_count": 52,
   "id": "3ea135f1",
   "metadata": {},
   "outputs": [],
   "source": [
    "normalized_result.set_index(\"K\", inplace=True)"
   ]
  },
  {
   "cell_type": "code",
   "execution_count": 53,
   "id": "de751994",
   "metadata": {},
   "outputs": [
    {
     "data": {
      "image/png": "[encoded data removed]",
      "text/plain": [
       "<Figure size 432x288 with 1 Axes>"
      ]
     },
     "metadata": {},
     "output_type": "display_data"
    }
   ],
   "source": [
    "normalized_result[\"SSE\"].plot()\n",
    "plt.show()"
   ]
  },
  {
   "cell_type": "code",
   "execution_count": 54,
   "id": "0c585d5f",
   "metadata": {},
   "outputs": [
    {
     "data": {
      "image/png": "[encoded data removed]",
      "text/plain": [
       "<Figure size 432x288 with 1 Axes>"
      ]
     },
     "metadata": {},
     "output_type": "display_data"
    }
   ],
   "source": [
    "normalized_result[\"SIL\"].plot()\n",
    "plt.show()"
   ]
  },
  {
   "cell_type": "code",
   "execution_count": 55,
   "id": "9a9bb3ad",
   "metadata": {},
   "outputs": [
    {
     "data": {
      "text/plain": [
       "KMeans(n_clusters=6)"
      ]
     },
     "execution_count": 55,
     "metadata": {},
     "output_type": "execute_result"
    }
   ],
   "source": [
    "normalized_kmeans = KMeans(n_clusters = 6, init = 'k-means++')\n",
    "normalized_kmeans.fit(normalized_data)"
   ]
  },
  {
   "cell_type": "markdown",
   "id": "947ea039",
   "metadata": {},
   "source": [
    "### Exercise 2"
   ]
  },
  {
   "cell_type": "code",
   "execution_count": 56,
   "id": "fdf0ac86",
   "metadata": {},
   "outputs": [
    {
     "data": {
      "text/plain": [
       "0.271677051711849"
      ]
     },
     "execution_count": 56,
     "metadata": {},
     "output_type": "execute_result"
    }
   ],
   "source": [
    "metrics.silhouette_score(dummy_data, dummy_kmeans.labels_)"
   ]
  },
  {
   "cell_type": "code",
   "execution_count": 57,
   "id": "6f0c435b",
   "metadata": {},
   "outputs": [],
   "source": [
    "dummy_data[\"Cluster\"] = dummy_kmeans.labels_"
   ]
  },
  {
   "cell_type": "markdown",
   "id": "9c9201e4",
   "metadata": {},
   "source": [
    "###### עבור הדטה המלא (דמי דטה)\n",
    "הסילוט יצא 0.28 חיובי איך בגלל שיותר קרוב ל 0 החלוקה שניה במחלוקת"
   ]
  },
  {
   "cell_type": "code",
   "execution_count": 58,
   "id": "19fdae48",
   "metadata": {},
   "outputs": [
    {
     "data": {
      "text/plain": [
       "0.6155847962993011"
      ]
     },
     "execution_count": 58,
     "metadata": {},
     "output_type": "execute_result"
    }
   ],
   "source": [
    "metrics.silhouette_score(normalized_data, normalized_kmeans.labels_)"
   ]
  },
  {
   "cell_type": "code",
   "execution_count": 59,
   "id": "5474bfb1",
   "metadata": {},
   "outputs": [],
   "source": [
    "normalized_data[\"Cluster\"] = normalized_kmeans.labels_"
   ]
  },
  {
   "cell_type": "markdown",
   "id": "1ab7aa87",
   "metadata": {},
   "source": [
    "##### עבור הדטה שהורדנו 2 עמודות (נורמליז דטה)\n",
    "הסילוט יצא גם כן חיובי אך כמעט ללא שינוי מהדטה המלא 0.31 "
   ]
  },
  {
   "cell_type": "markdown",
   "id": "82128bdb",
   "metadata": {},
   "source": [
    "### Exercise 3"
   ]
  },
  {
   "cell_type": "code",
   "execution_count": 60,
   "id": "ab9cd36a",
   "metadata": {},
   "outputs": [
    {
     "data": {
      "image/png": "[encoded data removed]",
      "text/plain": [
       "<Figure size 1080x360 with 1 Axes>"
      ]
     },
     "metadata": {},
     "output_type": "display_data"
    }
   ],
   "source": [
    "dummy_data.groupby(\"Cluster\")[\"hours-per-week\"].hist(legend=True, alpha=0.7,figsize=(15,5))\n",
    "plt.show()"
   ]
  },
  {
   "cell_type": "markdown",
   "id": "e54fc5d5",
   "metadata": {},
   "source": [
    "החלקוה שנוייה במחלוקת כי אומנם קבוצה 2 די מבודדת אך שאר הקבוצות די עולים אחד על השני"
   ]
  }
 ],
 "metadata": {
  "kernelspec": {
   "display_name": "Python 3 (ipykernel)",
   "language": "python",
   "name": "python3"
  },
  "language_info": {
   "codemirror_mode": {
    "name": "ipython",
    "version": 3
   },
   "file_extension": ".py",
   "mimetype": "text/x-python",
   "name": "python",
   "nbconvert_exporter": "python",
   "pygments_lexer": "ipython3",
   "version": "3.9.12"
  }
 },
 "nbformat": 4,
 "nbformat_minor": 5
}
